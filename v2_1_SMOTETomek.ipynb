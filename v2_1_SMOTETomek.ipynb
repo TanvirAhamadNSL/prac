{
 "cells": [
  {
   "cell_type": "markdown",
   "metadata": {
    "id": "f8wLhsOT_xRd"
   },
   "source": [
    "#Import Library"
   ]
  },
  {
   "cell_type": "code",
   "execution_count": 1,
   "metadata": {
    "executionInfo": {
     "elapsed": 647,
     "status": "ok",
     "timestamp": 1663034902762,
     "user": {
      "displayName": "Mahedi Hassan",
      "userId": "15245640433343928993"
     },
     "user_tz": -360
    },
    "id": "bKRQIdmj_Qql"
   },
   "outputs": [],
   "source": [
    "import numpy as np\n",
    "import matplotlib.pyplot as plt\n",
    "import pandas as pd\n",
    "import seaborn as sns"
   ]
  },
  {
   "cell_type": "markdown",
   "metadata": {
    "id": "7skIE-q1_5tx"
   },
   "source": [
    "#The Dataset"
   ]
  },
  {
   "cell_type": "code",
   "execution_count": 2,
   "metadata": {
    "colab": {
     "base_uri": "https://localhost:8080/",
     "height": 973
    },
    "executionInfo": {
     "elapsed": 7,
     "status": "ok",
     "timestamp": 1663034903341,
     "user": {
      "displayName": "Mahedi Hassan",
      "userId": "15245640433343928993"
     },
     "user_tz": -360
    },
    "id": "npse_9IVAZCy",
    "outputId": "f9dce296-3b71-4def-b694-756100e40d79"
   },
   "outputs": [
    {
     "data": {
      "text/html": [
       "<div>\n",
       "<style scoped>\n",
       "    .dataframe tbody tr th:only-of-type {\n",
       "        vertical-align: middle;\n",
       "    }\n",
       "\n",
       "    .dataframe tbody tr th {\n",
       "        vertical-align: top;\n",
       "    }\n",
       "\n",
       "    .dataframe thead th {\n",
       "        text-align: right;\n",
       "    }\n",
       "</style>\n",
       "<table border=\"1\" class=\"dataframe\">\n",
       "  <thead>\n",
       "    <tr style=\"text-align: right;\">\n",
       "      <th></th>\n",
       "      <th>id</th>\n",
       "      <th>age</th>\n",
       "      <th>bp</th>\n",
       "      <th>sg</th>\n",
       "      <th>al</th>\n",
       "      <th>su</th>\n",
       "      <th>rbc</th>\n",
       "      <th>pc</th>\n",
       "      <th>pcc</th>\n",
       "      <th>ba</th>\n",
       "      <th>...</th>\n",
       "      <th>pcv</th>\n",
       "      <th>wc</th>\n",
       "      <th>rc</th>\n",
       "      <th>htn</th>\n",
       "      <th>dm</th>\n",
       "      <th>cad</th>\n",
       "      <th>appet</th>\n",
       "      <th>pe</th>\n",
       "      <th>ane</th>\n",
       "      <th>classification</th>\n",
       "    </tr>\n",
       "  </thead>\n",
       "  <tbody>\n",
       "    <tr>\n",
       "      <th>0</th>\n",
       "      <td>0</td>\n",
       "      <td>48.0</td>\n",
       "      <td>80.0</td>\n",
       "      <td>1.020</td>\n",
       "      <td>1.0</td>\n",
       "      <td>0.0</td>\n",
       "      <td>NaN</td>\n",
       "      <td>normal</td>\n",
       "      <td>notpresent</td>\n",
       "      <td>notpresent</td>\n",
       "      <td>...</td>\n",
       "      <td>44.0</td>\n",
       "      <td>7800.0</td>\n",
       "      <td>5.2</td>\n",
       "      <td>yes</td>\n",
       "      <td>yes</td>\n",
       "      <td>no</td>\n",
       "      <td>good</td>\n",
       "      <td>no</td>\n",
       "      <td>no</td>\n",
       "      <td>ckd</td>\n",
       "    </tr>\n",
       "    <tr>\n",
       "      <th>1</th>\n",
       "      <td>1</td>\n",
       "      <td>7.0</td>\n",
       "      <td>50.0</td>\n",
       "      <td>1.020</td>\n",
       "      <td>4.0</td>\n",
       "      <td>0.0</td>\n",
       "      <td>NaN</td>\n",
       "      <td>normal</td>\n",
       "      <td>notpresent</td>\n",
       "      <td>notpresent</td>\n",
       "      <td>...</td>\n",
       "      <td>38.0</td>\n",
       "      <td>6000.0</td>\n",
       "      <td>NaN</td>\n",
       "      <td>no</td>\n",
       "      <td>no</td>\n",
       "      <td>no</td>\n",
       "      <td>good</td>\n",
       "      <td>no</td>\n",
       "      <td>no</td>\n",
       "      <td>ckd</td>\n",
       "    </tr>\n",
       "    <tr>\n",
       "      <th>2</th>\n",
       "      <td>2</td>\n",
       "      <td>62.0</td>\n",
       "      <td>80.0</td>\n",
       "      <td>1.010</td>\n",
       "      <td>2.0</td>\n",
       "      <td>3.0</td>\n",
       "      <td>normal</td>\n",
       "      <td>normal</td>\n",
       "      <td>notpresent</td>\n",
       "      <td>notpresent</td>\n",
       "      <td>...</td>\n",
       "      <td>31.0</td>\n",
       "      <td>7500.0</td>\n",
       "      <td>NaN</td>\n",
       "      <td>no</td>\n",
       "      <td>yes</td>\n",
       "      <td>no</td>\n",
       "      <td>poor</td>\n",
       "      <td>no</td>\n",
       "      <td>yes</td>\n",
       "      <td>ckd</td>\n",
       "    </tr>\n",
       "    <tr>\n",
       "      <th>3</th>\n",
       "      <td>3</td>\n",
       "      <td>48.0</td>\n",
       "      <td>70.0</td>\n",
       "      <td>1.005</td>\n",
       "      <td>4.0</td>\n",
       "      <td>0.0</td>\n",
       "      <td>normal</td>\n",
       "      <td>abnormal</td>\n",
       "      <td>present</td>\n",
       "      <td>notpresent</td>\n",
       "      <td>...</td>\n",
       "      <td>32.0</td>\n",
       "      <td>6700.0</td>\n",
       "      <td>3.9</td>\n",
       "      <td>yes</td>\n",
       "      <td>no</td>\n",
       "      <td>no</td>\n",
       "      <td>poor</td>\n",
       "      <td>yes</td>\n",
       "      <td>yes</td>\n",
       "      <td>ckd</td>\n",
       "    </tr>\n",
       "    <tr>\n",
       "      <th>4</th>\n",
       "      <td>4</td>\n",
       "      <td>51.0</td>\n",
       "      <td>80.0</td>\n",
       "      <td>1.010</td>\n",
       "      <td>2.0</td>\n",
       "      <td>0.0</td>\n",
       "      <td>normal</td>\n",
       "      <td>normal</td>\n",
       "      <td>notpresent</td>\n",
       "      <td>notpresent</td>\n",
       "      <td>...</td>\n",
       "      <td>35.0</td>\n",
       "      <td>7300.0</td>\n",
       "      <td>4.6</td>\n",
       "      <td>no</td>\n",
       "      <td>no</td>\n",
       "      <td>no</td>\n",
       "      <td>good</td>\n",
       "      <td>no</td>\n",
       "      <td>no</td>\n",
       "      <td>ckd</td>\n",
       "    </tr>\n",
       "  </tbody>\n",
       "</table>\n",
       "<p>5 rows × 26 columns</p>\n",
       "</div>"
      ],
      "text/plain": [
       "   id   age    bp     sg   al   su     rbc        pc         pcc          ba  \\\n",
       "0   0  48.0  80.0  1.020  1.0  0.0     NaN    normal  notpresent  notpresent   \n",
       "1   1   7.0  50.0  1.020  4.0  0.0     NaN    normal  notpresent  notpresent   \n",
       "2   2  62.0  80.0  1.010  2.0  3.0  normal    normal  notpresent  notpresent   \n",
       "3   3  48.0  70.0  1.005  4.0  0.0  normal  abnormal     present  notpresent   \n",
       "4   4  51.0  80.0  1.010  2.0  0.0  normal    normal  notpresent  notpresent   \n",
       "\n",
       "   ...   pcv      wc   rc  htn   dm  cad  appet   pe  ane classification  \n",
       "0  ...  44.0  7800.0  5.2  yes  yes   no   good   no   no            ckd  \n",
       "1  ...  38.0  6000.0  NaN   no   no   no   good   no   no            ckd  \n",
       "2  ...  31.0  7500.0  NaN   no  yes   no   poor   no  yes            ckd  \n",
       "3  ...  32.0  6700.0  3.9  yes   no   no   poor  yes  yes            ckd  \n",
       "4  ...  35.0  7300.0  4.6   no   no   no   good   no   no            ckd  \n",
       "\n",
       "[5 rows x 26 columns]"
      ]
     },
     "execution_count": 2,
     "metadata": {},
     "output_type": "execute_result"
    }
   ],
   "source": [
    "dataset = pd.read_csv('kidney_disease.csv')\n",
    "dataset.head()\n",
    "#dataset.info()\n",
    "#dataset.describe()"
   ]
  },
  {
   "cell_type": "markdown",
   "metadata": {
    "id": "3YjqjvovJQqJ"
   },
   "source": [
    "#Exploratory Data Analysis and Missing Data Handling"
   ]
  },
  {
   "cell_type": "markdown",
   "metadata": {
    "id": "U-GLh3Bd65in"
   },
   "source": [
    "Visualizing the missing data heatmap"
   ]
  },
  {
   "cell_type": "code",
   "execution_count": 3,
   "metadata": {
    "colab": {
     "base_uri": "https://localhost:8080/",
     "height": 406
    },
    "executionInfo": {
     "elapsed": 1830,
     "status": "ok",
     "timestamp": 1663034227013,
     "user": {
      "displayName": "Mahedi Hassan",
      "userId": "15245640433343928993"
     },
     "user_tz": -360
    },
    "id": "pssjsogpOLrU",
    "outputId": "acbdf9b7-d528-440c-bd6f-87fdfb2739fe"
   },
   "outputs": [
    {
     "data": {
      "text/plain": [
       "<seaborn.axisgrid.FacetGrid at 0x7f2853d27370>"
      ]
     },
     "execution_count": 3,
     "metadata": {},
     "output_type": "execute_result"
    },
    {
     "data": {
      "text/plain": [
       "<Figure size 720x432 with 0 Axes>"
      ]
     },
     "metadata": {},
     "output_type": "display_data"
    },
    {
     "data": {
      "image/png": "[encoded data removed]",
      "text/plain": [
       "<Figure size 511.25x360 with 1 Axes>"
      ]
     },
     "metadata": {
      "needs_background": "light"
     },
     "output_type": "display_data"
    }
   ],
   "source": [
    "plt.figure(figsize=(10,6))\n",
    "sns.displot(\n",
    "    data=dataset.isna().melt(value_name=\"missing\"),\n",
    "    y=\"variable\",\n",
    "    hue=\"missing\",\n",
    "    multiple=\"fill\",\n",
    "    aspect=1.25\n",
    ")"
   ]
  },
  {
   "cell_type": "code",
   "execution_count": 4,
   "metadata": {
    "colab": {
     "base_uri": "https://localhost:8080/",
     "height": 579
    },
    "executionInfo": {
     "elapsed": 2144,
     "status": "ok",
     "timestamp": 1663034231855,
     "user": {
      "displayName": "Mahedi Hassan",
      "userId": "15245640433343928993"
     },
     "user_tz": -360
    },
    "id": "f77tpOBJ5fVU",
    "outputId": "fad57503-fab4-43fd-f0e9-efb457d5fd21"
   },
   "outputs": [
    {
     "data": {
      "text/plain": [
       "<AxesSubplot:>"
      ]
     },
     "execution_count": 4,
     "metadata": {},
     "output_type": "execute_result"
    },
    {
     "data": {
      "image/png": "[encoded data removed]",
      "text/plain": [
       "<Figure size 1440x720 with 1 Axes>"
      ]
     },
     "metadata": {
      "needs_background": "light"
     },
     "output_type": "display_data"
    }
   ],
   "source": [
    "fig, ax = plt.subplots(figsize=(20, 10))\n",
    "sns.heatmap(dataset.isnull(), cbar=False)"
   ]
  },
  {
   "cell_type": "markdown",
   "metadata": {
    "id": "lU-cbMcC8ICc"
   },
   "source": [
    "Finding the percentage of missing data for each attribute"
   ]
  },
  {
   "cell_type": "code",
   "execution_count": 5,
   "metadata": {
    "colab": {
     "base_uri": "https://localhost:8080/"
    },
    "executionInfo": {
     "elapsed": 5,
     "status": "ok",
     "timestamp": 1663034233816,
     "user": {
      "displayName": "Mahedi Hassan",
      "userId": "15245640433343928993"
     },
     "user_tz": -360
    },
    "id": "KOnfOKZN8Qkt",
    "outputId": "f0c32073-2d1c-4f7b-9653-372b6ce50095"
   },
   "outputs": [
    {
     "name": "stdout",
     "output_type": "stream",
     "text": [
      "                   column_name  percent_missing\n",
      "id                          id             0.00\n",
      "age                        age             2.25\n",
      "bp                          bp             3.00\n",
      "sg                          sg            11.75\n",
      "al                          al            11.50\n",
      "su                          su            12.25\n",
      "rbc                        rbc            38.00\n",
      "pc                          pc            16.25\n",
      "pcc                        pcc             1.00\n",
      "ba                          ba             1.00\n",
      "bgr                        bgr            11.00\n",
      "bu                          bu             4.75\n",
      "sc                          sc             4.25\n",
      "sod                        sod            21.75\n",
      "pot                        pot            22.00\n",
      "hemo                      hemo            13.00\n",
      "pcv                        pcv            17.75\n",
      "wc                          wc            26.50\n",
      "rc                          rc            32.75\n",
      "htn                        htn             0.50\n",
      "dm                          dm             0.50\n",
      "cad                        cad             0.50\n",
      "appet                    appet             0.25\n",
      "pe                          pe             0.25\n",
      "ane                        ane             0.25\n",
      "classification  classification             0.00\n"
     ]
    }
   ],
   "source": [
    "percent_missing = dataset.isnull().sum() * 100 / len(dataset)\n",
    "missing_value_df = pd.DataFrame({'column_name': dataset.columns,\n",
    "                                 'percent_missing': percent_missing})\n",
    "print(missing_value_df)"
   ]
  },
  {
   "cell_type": "markdown",
   "metadata": {
    "id": "JJKJBlFu-0XZ"
   },
   "source": [
    "Dropping the columns with more than 20% missing value"
   ]
  },
  {
   "cell_type": "code",
   "execution_count": 6,
   "metadata": {
    "colab": {
     "base_uri": "https://localhost:8080/",
     "height": 467
    },
    "executionInfo": {
     "elapsed": 437,
     "status": "ok",
     "timestamp": 1663034921839,
     "user": {
      "displayName": "Mahedi Hassan",
      "userId": "15245640433343928993"
     },
     "user_tz": -360
    },
    "id": "QIYTrNLfJVvX",
    "outputId": "0f5ba7cc-f09e-4fdd-9215-469ae2a7fbb8"
   },
   "outputs": [
    {
     "data": {
      "text/html": [
       "<div>\n",
       "<style scoped>\n",
       "    .dataframe tbody tr th:only-of-type {\n",
       "        vertical-align: middle;\n",
       "    }\n",
       "\n",
       "    .dataframe tbody tr th {\n",
       "        vertical-align: top;\n",
       "    }\n",
       "\n",
       "    .dataframe thead th {\n",
       "        text-align: right;\n",
       "    }\n",
       "</style>\n",
       "<table border=\"1\" class=\"dataframe\">\n",
       "  <thead>\n",
       "    <tr style=\"text-align: right;\">\n",
       "      <th></th>\n",
       "      <th>id</th>\n",
       "      <th>age</th>\n",
       "      <th>bp</th>\n",
       "      <th>sg</th>\n",
       "      <th>al</th>\n",
       "      <th>su</th>\n",
       "      <th>pc</th>\n",
       "      <th>pcc</th>\n",
       "      <th>ba</th>\n",
       "      <th>bgr</th>\n",
       "      <th>...</th>\n",
       "      <th>sc</th>\n",
       "      <th>hemo</th>\n",
       "      <th>pcv</th>\n",
       "      <th>htn</th>\n",
       "      <th>dm</th>\n",
       "      <th>cad</th>\n",
       "      <th>appet</th>\n",
       "      <th>pe</th>\n",
       "      <th>ane</th>\n",
       "      <th>classification</th>\n",
       "    </tr>\n",
       "  </thead>\n",
       "  <tbody>\n",
       "    <tr>\n",
       "      <th>0</th>\n",
       "      <td>0</td>\n",
       "      <td>48.0</td>\n",
       "      <td>80.0</td>\n",
       "      <td>1.020</td>\n",
       "      <td>1.0</td>\n",
       "      <td>0.0</td>\n",
       "      <td>normal</td>\n",
       "      <td>notpresent</td>\n",
       "      <td>notpresent</td>\n",
       "      <td>121.0</td>\n",
       "      <td>...</td>\n",
       "      <td>1.2</td>\n",
       "      <td>15.4</td>\n",
       "      <td>44.0</td>\n",
       "      <td>yes</td>\n",
       "      <td>yes</td>\n",
       "      <td>no</td>\n",
       "      <td>good</td>\n",
       "      <td>no</td>\n",
       "      <td>no</td>\n",
       "      <td>ckd</td>\n",
       "    </tr>\n",
       "    <tr>\n",
       "      <th>1</th>\n",
       "      <td>1</td>\n",
       "      <td>7.0</td>\n",
       "      <td>50.0</td>\n",
       "      <td>1.020</td>\n",
       "      <td>4.0</td>\n",
       "      <td>0.0</td>\n",
       "      <td>normal</td>\n",
       "      <td>notpresent</td>\n",
       "      <td>notpresent</td>\n",
       "      <td>NaN</td>\n",
       "      <td>...</td>\n",
       "      <td>0.8</td>\n",
       "      <td>11.3</td>\n",
       "      <td>38.0</td>\n",
       "      <td>no</td>\n",
       "      <td>no</td>\n",
       "      <td>no</td>\n",
       "      <td>good</td>\n",
       "      <td>no</td>\n",
       "      <td>no</td>\n",
       "      <td>ckd</td>\n",
       "    </tr>\n",
       "    <tr>\n",
       "      <th>2</th>\n",
       "      <td>2</td>\n",
       "      <td>62.0</td>\n",
       "      <td>80.0</td>\n",
       "      <td>1.010</td>\n",
       "      <td>2.0</td>\n",
       "      <td>3.0</td>\n",
       "      <td>normal</td>\n",
       "      <td>notpresent</td>\n",
       "      <td>notpresent</td>\n",
       "      <td>423.0</td>\n",
       "      <td>...</td>\n",
       "      <td>1.8</td>\n",
       "      <td>9.6</td>\n",
       "      <td>31.0</td>\n",
       "      <td>no</td>\n",
       "      <td>yes</td>\n",
       "      <td>no</td>\n",
       "      <td>poor</td>\n",
       "      <td>no</td>\n",
       "      <td>yes</td>\n",
       "      <td>ckd</td>\n",
       "    </tr>\n",
       "    <tr>\n",
       "      <th>3</th>\n",
       "      <td>3</td>\n",
       "      <td>48.0</td>\n",
       "      <td>70.0</td>\n",
       "      <td>1.005</td>\n",
       "      <td>4.0</td>\n",
       "      <td>0.0</td>\n",
       "      <td>abnormal</td>\n",
       "      <td>present</td>\n",
       "      <td>notpresent</td>\n",
       "      <td>117.0</td>\n",
       "      <td>...</td>\n",
       "      <td>3.8</td>\n",
       "      <td>11.2</td>\n",
       "      <td>32.0</td>\n",
       "      <td>yes</td>\n",
       "      <td>no</td>\n",
       "      <td>no</td>\n",
       "      <td>poor</td>\n",
       "      <td>yes</td>\n",
       "      <td>yes</td>\n",
       "      <td>ckd</td>\n",
       "    </tr>\n",
       "    <tr>\n",
       "      <th>4</th>\n",
       "      <td>4</td>\n",
       "      <td>51.0</td>\n",
       "      <td>80.0</td>\n",
       "      <td>1.010</td>\n",
       "      <td>2.0</td>\n",
       "      <td>0.0</td>\n",
       "      <td>normal</td>\n",
       "      <td>notpresent</td>\n",
       "      <td>notpresent</td>\n",
       "      <td>106.0</td>\n",
       "      <td>...</td>\n",
       "      <td>1.4</td>\n",
       "      <td>11.6</td>\n",
       "      <td>35.0</td>\n",
       "      <td>no</td>\n",
       "      <td>no</td>\n",
       "      <td>no</td>\n",
       "      <td>good</td>\n",
       "      <td>no</td>\n",
       "      <td>no</td>\n",
       "      <td>ckd</td>\n",
       "    </tr>\n",
       "    <tr>\n",
       "      <th>...</th>\n",
       "      <td>...</td>\n",
       "      <td>...</td>\n",
       "      <td>...</td>\n",
       "      <td>...</td>\n",
       "      <td>...</td>\n",
       "      <td>...</td>\n",
       "      <td>...</td>\n",
       "      <td>...</td>\n",
       "      <td>...</td>\n",
       "      <td>...</td>\n",
       "      <td>...</td>\n",
       "      <td>...</td>\n",
       "      <td>...</td>\n",
       "      <td>...</td>\n",
       "      <td>...</td>\n",
       "      <td>...</td>\n",
       "      <td>...</td>\n",
       "      <td>...</td>\n",
       "      <td>...</td>\n",
       "      <td>...</td>\n",
       "      <td>...</td>\n",
       "    </tr>\n",
       "    <tr>\n",
       "      <th>395</th>\n",
       "      <td>395</td>\n",
       "      <td>55.0</td>\n",
       "      <td>80.0</td>\n",
       "      <td>1.020</td>\n",
       "      <td>0.0</td>\n",
       "      <td>0.0</td>\n",
       "      <td>normal</td>\n",
       "      <td>notpresent</td>\n",
       "      <td>notpresent</td>\n",
       "      <td>140.0</td>\n",
       "      <td>...</td>\n",
       "      <td>0.5</td>\n",
       "      <td>15.7</td>\n",
       "      <td>47.0</td>\n",
       "      <td>no</td>\n",
       "      <td>no</td>\n",
       "      <td>no</td>\n",
       "      <td>good</td>\n",
       "      <td>no</td>\n",
       "      <td>no</td>\n",
       "      <td>notckd</td>\n",
       "    </tr>\n",
       "    <tr>\n",
       "      <th>396</th>\n",
       "      <td>396</td>\n",
       "      <td>42.0</td>\n",
       "      <td>70.0</td>\n",
       "      <td>1.025</td>\n",
       "      <td>0.0</td>\n",
       "      <td>0.0</td>\n",
       "      <td>normal</td>\n",
       "      <td>notpresent</td>\n",
       "      <td>notpresent</td>\n",
       "      <td>75.0</td>\n",
       "      <td>...</td>\n",
       "      <td>1.2</td>\n",
       "      <td>16.5</td>\n",
       "      <td>54.0</td>\n",
       "      <td>no</td>\n",
       "      <td>no</td>\n",
       "      <td>no</td>\n",
       "      <td>good</td>\n",
       "      <td>no</td>\n",
       "      <td>no</td>\n",
       "      <td>notckd</td>\n",
       "    </tr>\n",
       "    <tr>\n",
       "      <th>397</th>\n",
       "      <td>397</td>\n",
       "      <td>12.0</td>\n",
       "      <td>80.0</td>\n",
       "      <td>1.020</td>\n",
       "      <td>0.0</td>\n",
       "      <td>0.0</td>\n",
       "      <td>normal</td>\n",
       "      <td>notpresent</td>\n",
       "      <td>notpresent</td>\n",
       "      <td>100.0</td>\n",
       "      <td>...</td>\n",
       "      <td>0.6</td>\n",
       "      <td>15.8</td>\n",
       "      <td>49.0</td>\n",
       "      <td>no</td>\n",
       "      <td>no</td>\n",
       "      <td>no</td>\n",
       "      <td>good</td>\n",
       "      <td>no</td>\n",
       "      <td>no</td>\n",
       "      <td>notckd</td>\n",
       "    </tr>\n",
       "    <tr>\n",
       "      <th>398</th>\n",
       "      <td>398</td>\n",
       "      <td>17.0</td>\n",
       "      <td>60.0</td>\n",
       "      <td>1.025</td>\n",
       "      <td>0.0</td>\n",
       "      <td>0.0</td>\n",
       "      <td>normal</td>\n",
       "      <td>notpresent</td>\n",
       "      <td>notpresent</td>\n",
       "      <td>114.0</td>\n",
       "      <td>...</td>\n",
       "      <td>1.0</td>\n",
       "      <td>14.2</td>\n",
       "      <td>51.0</td>\n",
       "      <td>no</td>\n",
       "      <td>no</td>\n",
       "      <td>no</td>\n",
       "      <td>good</td>\n",
       "      <td>no</td>\n",
       "      <td>no</td>\n",
       "      <td>notckd</td>\n",
       "    </tr>\n",
       "    <tr>\n",
       "      <th>399</th>\n",
       "      <td>399</td>\n",
       "      <td>58.0</td>\n",
       "      <td>80.0</td>\n",
       "      <td>1.025</td>\n",
       "      <td>0.0</td>\n",
       "      <td>0.0</td>\n",
       "      <td>normal</td>\n",
       "      <td>notpresent</td>\n",
       "      <td>notpresent</td>\n",
       "      <td>131.0</td>\n",
       "      <td>...</td>\n",
       "      <td>1.1</td>\n",
       "      <td>15.8</td>\n",
       "      <td>53.0</td>\n",
       "      <td>no</td>\n",
       "      <td>no</td>\n",
       "      <td>no</td>\n",
       "      <td>good</td>\n",
       "      <td>no</td>\n",
       "      <td>no</td>\n",
       "      <td>notckd</td>\n",
       "    </tr>\n",
       "  </tbody>\n",
       "</table>\n",
       "<p>400 rows × 21 columns</p>\n",
       "</div>"
      ],
      "text/plain": [
       "      id   age    bp     sg   al   su        pc         pcc          ba  \\\n",
       "0      0  48.0  80.0  1.020  1.0  0.0    normal  notpresent  notpresent   \n",
       "1      1   7.0  50.0  1.020  4.0  0.0    normal  notpresent  notpresent   \n",
       "2      2  62.0  80.0  1.010  2.0  3.0    normal  notpresent  notpresent   \n",
       "3      3  48.0  70.0  1.005  4.0  0.0  abnormal     present  notpresent   \n",
       "4      4  51.0  80.0  1.010  2.0  0.0    normal  notpresent  notpresent   \n",
       "..   ...   ...   ...    ...  ...  ...       ...         ...         ...   \n",
       "395  395  55.0  80.0  1.020  0.0  0.0    normal  notpresent  notpresent   \n",
       "396  396  42.0  70.0  1.025  0.0  0.0    normal  notpresent  notpresent   \n",
       "397  397  12.0  80.0  1.020  0.0  0.0    normal  notpresent  notpresent   \n",
       "398  398  17.0  60.0  1.025  0.0  0.0    normal  notpresent  notpresent   \n",
       "399  399  58.0  80.0  1.025  0.0  0.0    normal  notpresent  notpresent   \n",
       "\n",
       "       bgr  ...   sc  hemo   pcv  htn   dm cad appet   pe  ane classification  \n",
       "0    121.0  ...  1.2  15.4  44.0  yes  yes  no  good   no   no            ckd  \n",
       "1      NaN  ...  0.8  11.3  38.0   no   no  no  good   no   no            ckd  \n",
       "2    423.0  ...  1.8   9.6  31.0   no  yes  no  poor   no  yes            ckd  \n",
       "3    117.0  ...  3.8  11.2  32.0  yes   no  no  poor  yes  yes            ckd  \n",
       "4    106.0  ...  1.4  11.6  35.0   no   no  no  good   no   no            ckd  \n",
       "..     ...  ...  ...   ...   ...  ...  ...  ..   ...  ...  ...            ...  \n",
       "395  140.0  ...  0.5  15.7  47.0   no   no  no  good   no   no         notckd  \n",
       "396   75.0  ...  1.2  16.5  54.0   no   no  no  good   no   no         notckd  \n",
       "397  100.0  ...  0.6  15.8  49.0   no   no  no  good   no   no         notckd  \n",
       "398  114.0  ...  1.0  14.2  51.0   no   no  no  good   no   no         notckd  \n",
       "399  131.0  ...  1.1  15.8  53.0   no   no  no  good   no   no         notckd  \n",
       "\n",
       "[400 rows x 21 columns]"
      ]
     },
     "execution_count": 6,
     "metadata": {},
     "output_type": "execute_result"
    }
   ],
   "source": [
    "dataset = dataset.dropna(thresh=0.8*len(dataset), axis=1)\n",
    "dataset"
   ]
  },
  {
   "cell_type": "code",
   "execution_count": 7,
   "metadata": {
    "executionInfo": {
     "elapsed": 488,
     "status": "ok",
     "timestamp": 1663034935900,
     "user": {
      "displayName": "Mahedi Hassan",
      "userId": "15245640433343928993"
     },
     "user_tz": -360
    },
    "id": "-jCjfOl6jJJx"
   },
   "outputs": [],
   "source": [
    "from sklearn.preprocessing import LabelEncoder\n",
    "label = LabelEncoder()\n",
    "dataset.iloc[:,6] = label.fit_transform(dataset.iloc[:,6])\n",
    "dataset.iloc[:,7] = label.fit_transform(dataset.iloc[:,7])\n",
    "dataset.iloc[:,8] = label.fit_transform(dataset.iloc[:,8])\n",
    "dataset.iloc[:,14] = label.fit_transform(dataset.iloc[:,14])\n",
    "dataset.iloc[:,15] = label.fit_transform(dataset.iloc[:,15])\n",
    "dataset.iloc[:,16] = label.fit_transform(dataset.iloc[:,16])\n",
    "dataset.iloc[:,17] = label.fit_transform(dataset.iloc[:,17])\n",
    "dataset.iloc[:,18] = label.fit_transform(dataset.iloc[:,18])\n",
    "dataset.iloc[:,19] = label.fit_transform(dataset.iloc[:,19])\n",
    "dataset.iloc[:,20] = label.fit_transform(dataset.iloc[:,20])\n",
    "\n",
    "dataset.drop('id', axis=1, inplace=True)"
   ]
  },
  {
   "cell_type": "code",
   "execution_count": 8,
   "metadata": {},
   "outputs": [
    {
     "data": {
      "text/plain": [
       "0    250\n",
       "1    150\n",
       "Name: classification, dtype: int64"
      ]
     },
     "execution_count": 8,
     "metadata": {},
     "output_type": "execute_result"
    }
   ],
   "source": [
    "dataset.head()\n",
    "dataset['classification'].value_counts()"
   ]
  },
  {
   "cell_type": "code",
   "execution_count": 9,
   "metadata": {
    "executionInfo": {
     "elapsed": 416,
     "status": "ok",
     "timestamp": 1663034939478,
     "user": {
      "displayName": "Mahedi Hassan",
      "userId": "15245640433343928993"
     },
     "user_tz": -360
    },
    "id": "Ao7X_2f7pFeG"
   },
   "outputs": [],
   "source": [
    "column_names = dataset.columns"
   ]
  },
  {
   "cell_type": "markdown",
   "metadata": {
    "id": "z9IYjbsfTCPk"
   },
   "source": [
    "Correlation among the features"
   ]
  },
  {
   "cell_type": "code",
   "execution_count": 10,
   "metadata": {
    "colab": {
     "base_uri": "https://localhost:8080/",
     "height": 598
    },
    "executionInfo": {
     "elapsed": 4078,
     "status": "ok",
     "timestamp": 1663034945901,
     "user": {
      "displayName": "Mahedi Hassan",
      "userId": "15245640433343928993"
     },
     "user_tz": -360
    },
    "id": "3LeqMxlGTB2g",
    "outputId": "0b8968ae-7af3-4335-fdb3-fc86afab0850"
   },
   "outputs": [
    {
     "data": {
      "image/png": "[encoded data removed]",
      "text/plain": [
       "<Figure size 1080x720 with 2 Axes>"
      ]
     },
     "metadata": {
      "needs_background": "light"
     },
     "output_type": "display_data"
    }
   ],
   "source": [
    "plt.figure(figsize=(15,10))\n",
    "corr = dataset.corr()\n",
    "sns.heatmap(corr,linewidths=.1,cmap=\"YlGnBu\", annot=True)\n",
    "plt.yticks(rotation=0);"
   ]
  },
  {
   "cell_type": "markdown",
   "metadata": {
    "id": "hIBPki5Rb7AU"
   },
   "source": [
    "Comparing the distribution of highly correlated attributes i.e., correlation above 0.5"
   ]
  },
  {
   "cell_type": "code",
   "execution_count": 11,
   "metadata": {
    "colab": {
     "base_uri": "https://localhost:8080/",
     "height": 1000
    },
    "executionInfo": {
     "elapsed": 12810,
     "status": "ok",
     "timestamp": 1662974505083,
     "user": {
      "displayName": "Tanvir Ahamad",
      "userId": "18240550577258724459"
     },
     "user_tz": -360
    },
    "id": "aBm4zldkapcH",
    "outputId": "3cc7ccd1-bcbc-4ef1-86ab-815ee96f5f00"
   },
   "outputs": [
    {
     "name": "stderr",
     "output_type": "stream",
     "text": [
      "/home/nsl50/anaconda3/lib/python3.9/site-packages/seaborn/_decorators.py:36: FutureWarning: Pass the following variables as keyword args: x, y. From version 0.12, the only valid positional argument will be `data`, and passing other arguments without an explicit keyword will result in an error or misinterpretation.\n",
      "  warnings.warn(\n"
     ]
    },
    {
     "data": {
      "image/png": "[encoded data removed]",
      "text/plain": [
       "<Figure size 432x432 with 3 Axes>"
      ]
     },
     "metadata": {
      "needs_background": "light"
     },
     "output_type": "display_data"
    },
    {
     "name": "stderr",
     "output_type": "stream",
     "text": [
      "/home/nsl50/anaconda3/lib/python3.9/site-packages/seaborn/_decorators.py:36: FutureWarning: Pass the following variables as keyword args: x, y. From version 0.12, the only valid positional argument will be `data`, and passing other arguments without an explicit keyword will result in an error or misinterpretation.\n",
      "  warnings.warn(\n"
     ]
    },
    {
     "data": {
      "image/png": "[encoded data removed]",
      "text/plain": [
       "<Figure size 432x432 with 3 Axes>"
      ]
     },
     "metadata": {
      "needs_background": "light"
     },
     "output_type": "display_data"
    },
    {
     "name": "stderr",
     "output_type": "stream",
     "text": [
      "/home/nsl50/anaconda3/lib/python3.9/site-packages/seaborn/_decorators.py:36: FutureWarning: Pass the following variables as keyword args: x, y. From version 0.12, the only valid positional argument will be `data`, and passing other arguments without an explicit keyword will result in an error or misinterpretation.\n",
      "  warnings.warn(\n"
     ]
    },
    {
     "data": {
      "image/png": "[encoded data removed]",
      "text/plain": [
       "<Figure size 432x432 with 3 Axes>"
      ]
     },
     "metadata": {
      "needs_background": "light"
     },
     "output_type": "display_data"
    },
    {
     "name": "stderr",
     "output_type": "stream",
     "text": [
      "/home/nsl50/anaconda3/lib/python3.9/site-packages/seaborn/_decorators.py:36: FutureWarning: Pass the following variables as keyword args: x, y. From version 0.12, the only valid positional argument will be `data`, and passing other arguments without an explicit keyword will result in an error or misinterpretation.\n",
      "  warnings.warn(\n"
     ]
    },
    {
     "data": {
      "image/png": "[encoded data removed]",
      "text/plain": [
       "<Figure size 432x432 with 3 Axes>"
      ]
     },
     "metadata": {
      "needs_background": "light"
     },
     "output_type": "display_data"
    },
    {
     "name": "stderr",
     "output_type": "stream",
     "text": [
      "/home/nsl50/anaconda3/lib/python3.9/site-packages/seaborn/_decorators.py:36: FutureWarning: Pass the following variables as keyword args: x, y. From version 0.12, the only valid positional argument will be `data`, and passing other arguments without an explicit keyword will result in an error or misinterpretation.\n",
      "  warnings.warn(\n"
     ]
    },
    {
     "data": {
      "image/png": "[encoded data removed]",
      "text/plain": [
       "<Figure size 432x432 with 3 Axes>"
      ]
     },
     "metadata": {
      "needs_background": "light"
     },
     "output_type": "display_data"
    },
    {
     "name": "stderr",
     "output_type": "stream",
     "text": [
      "/home/nsl50/anaconda3/lib/python3.9/site-packages/seaborn/_decorators.py:36: FutureWarning: Pass the following variables as keyword args: x, y. From version 0.12, the only valid positional argument will be `data`, and passing other arguments without an explicit keyword will result in an error or misinterpretation.\n",
      "  warnings.warn(\n"
     ]
    },
    {
     "data": {
      "image/png": "[encoded data removed]",
      "text/plain": [
       "<Figure size 432x432 with 3 Axes>"
      ]
     },
     "metadata": {
      "needs_background": "light"
     },
     "output_type": "display_data"
    },
    {
     "name": "stderr",
     "output_type": "stream",
     "text": [
      "/home/nsl50/anaconda3/lib/python3.9/site-packages/seaborn/_decorators.py:36: FutureWarning: Pass the following variables as keyword args: x, y. From version 0.12, the only valid positional argument will be `data`, and passing other arguments without an explicit keyword will result in an error or misinterpretation.\n",
      "  warnings.warn(\n"
     ]
    },
    {
     "data": {
      "image/png": "[encoded data removed]",
      "text/plain": [
       "<Figure size 432x432 with 3 Axes>"
      ]
     },
     "metadata": {
      "needs_background": "light"
     },
     "output_type": "display_data"
    },
    {
     "name": "stderr",
     "output_type": "stream",
     "text": [
      "/home/nsl50/anaconda3/lib/python3.9/site-packages/seaborn/_decorators.py:36: FutureWarning: Pass the following variables as keyword args: x, y. From version 0.12, the only valid positional argument will be `data`, and passing other arguments without an explicit keyword will result in an error or misinterpretation.\n",
      "  warnings.warn(\n"
     ]
    },
    {
     "data": {
      "image/png": "[encoded data removed]",
      "text/plain": [
       "<Figure size 432x432 with 3 Axes>"
      ]
     },
     "metadata": {
      "needs_background": "light"
     },
     "output_type": "display_data"
    }
   ],
   "source": [
    "sns.jointplot(dataset['bu'], dataset['sc'], kind='reg')\n",
    "plt.show()\n",
    "sns.jointplot(dataset['bgr'], dataset['su'], kind='reg')\n",
    "plt.show()\n",
    "sns.jointplot(dataset['hemo'], dataset['sg'], kind='reg')\n",
    "plt.show()\n",
    "sns.jointplot(dataset['pcv'], dataset['sg'], kind='reg')\n",
    "plt.show()\n",
    "sns.jointplot(dataset['al'], dataset['sg'], kind='reg')\n",
    "plt.show()\n",
    "sns.jointplot(dataset['dm'], dataset['su'], kind='reg')\n",
    "plt.show()\n",
    "sns.jointplot(dataset['dm'], dataset['bgr'], kind='reg')\n",
    "plt.show()\n",
    "sns.jointplot(dataset['hemo'], dataset['pcv'], kind='reg')\n",
    "plt.show()"
   ]
  },
  {
   "cell_type": "markdown",
   "metadata": {
    "id": "LFJ08uA8U5SC"
   },
   "source": [
    "The following figure shows that there is somewhat a class imbalance problem. So, evaluating with accuracy may not be appropriate."
   ]
  },
  {
   "cell_type": "code",
   "execution_count": 12,
   "metadata": {
    "colab": {
     "base_uri": "https://localhost:8080/",
     "height": 469
    },
    "executionInfo": {
     "elapsed": 459,
     "status": "ok",
     "timestamp": 1663034970938,
     "user": {
      "displayName": "Mahedi Hassan",
      "userId": "15245640433343928993"
     },
     "user_tz": -360
    },
    "id": "kC_taPcPU8m_",
    "outputId": "a860974c-962a-4e03-eeb3-7ae962f42cb6"
   },
   "outputs": [
    {
     "name": "stderr",
     "output_type": "stream",
     "text": [
      "/home/nsl50/anaconda3/lib/python3.9/site-packages/seaborn/_decorators.py:36: FutureWarning: Pass the following variable as a keyword arg: x. From version 0.12, the only valid positional argument will be `data`, and passing other arguments without an explicit keyword will result in an error or misinterpretation.\n",
      "  warnings.warn(\n"
     ]
    },
    {
     "data": {
      "text/plain": [
       "<AxesSubplot:xlabel='classification', ylabel='count'>"
      ]
     },
     "execution_count": 12,
     "metadata": {},
     "output_type": "execute_result"
    },
    {
     "data": {
      "image/png": "[encoded data removed]",
      "text/plain": [
       "<Figure size 432x288 with 1 Axes>"
      ]
     },
     "metadata": {
      "needs_background": "light"
     },
     "output_type": "display_data"
    }
   ],
   "source": [
    "sns.countplot('classification', data = dataset)\n",
    "#plt.savefig('before_smote.pdf')"
   ]
  },
  {
   "cell_type": "markdown",
   "metadata": {
    "id": "VaB4dQ4fe9Rq"
   },
   "source": [
    "Filling missing values"
   ]
  },
  {
   "cell_type": "markdown",
   "metadata": {
    "id": "7vCSdv-hQD4D"
   },
   "source": [
    "Taking care of missing data by using K Nearest Neighbour Imputation Algorithm"
   ]
  },
  {
   "cell_type": "code",
   "execution_count": 13,
   "metadata": {
    "colab": {
     "base_uri": "https://localhost:8080/"
    },
    "executionInfo": {
     "elapsed": 9,
     "status": "ok",
     "timestamp": 1663034998247,
     "user": {
      "displayName": "Mahedi Hassan",
      "userId": "15245640433343928993"
     },
     "user_tz": -360
    },
    "id": "QU_3Vf2IDruk",
    "outputId": "eb7e7724-e7e5-49d9-ba74-ff61ade76041"
   },
   "outputs": [
    {
     "name": "stdout",
     "output_type": "stream",
     "text": [
      "(400, 1)\n"
     ]
    }
   ],
   "source": [
    "X = dataset.iloc[:,:-1].values\n",
    "y = dataset.iloc[:,-1:].values\n",
    "print(y.shape)"
   ]
  },
  {
   "cell_type": "code",
   "execution_count": 14,
   "metadata": {
    "executionInfo": {
     "elapsed": 676,
     "status": "ok",
     "timestamp": 1663035005768,
     "user": {
      "displayName": "Mahedi Hassan",
      "userId": "15245640433343928993"
     },
     "user_tz": -360
    },
    "id": "vhV_um_fOpEp"
   },
   "outputs": [],
   "source": [
    "from sklearn.impute import KNNImputer\n",
    "imputer = KNNImputer(missing_values=np.nan, n_neighbors=7)\n",
    "X = imputer.fit_transform(X)"
   ]
  },
  {
   "cell_type": "code",
   "execution_count": 15,
   "metadata": {
    "colab": {
     "base_uri": "https://localhost:8080/",
     "height": 364
    },
    "executionInfo": {
     "elapsed": 993,
     "status": "ok",
     "timestamp": 1663034262132,
     "user": {
      "displayName": "Mahedi Hassan",
      "userId": "15245640433343928993"
     },
     "user_tz": -360
    },
    "id": "IfKGy95G06Sr",
    "outputId": "55ee4e91-c20c-4a5d-caac-596e18ba2a43"
   },
   "outputs": [
    {
     "data": {
      "text/html": [
       "<div>\n",
       "<style scoped>\n",
       "    .dataframe tbody tr th:only-of-type {\n",
       "        vertical-align: middle;\n",
       "    }\n",
       "\n",
       "    .dataframe tbody tr th {\n",
       "        vertical-align: top;\n",
       "    }\n",
       "\n",
       "    .dataframe thead th {\n",
       "        text-align: right;\n",
       "    }\n",
       "</style>\n",
       "<table border=\"1\" class=\"dataframe\">\n",
       "  <thead>\n",
       "    <tr style=\"text-align: right;\">\n",
       "      <th></th>\n",
       "      <th>age</th>\n",
       "      <th>bp</th>\n",
       "      <th>sg</th>\n",
       "      <th>al</th>\n",
       "      <th>su</th>\n",
       "      <th>pc</th>\n",
       "      <th>pcc</th>\n",
       "      <th>ba</th>\n",
       "      <th>bgr</th>\n",
       "      <th>bu</th>\n",
       "      <th>sc</th>\n",
       "      <th>hemo</th>\n",
       "      <th>pcv</th>\n",
       "      <th>htn</th>\n",
       "      <th>dm</th>\n",
       "      <th>cad</th>\n",
       "      <th>appet</th>\n",
       "      <th>pe</th>\n",
       "      <th>ane</th>\n",
       "      <th>classification</th>\n",
       "    </tr>\n",
       "  </thead>\n",
       "  <tbody>\n",
       "    <tr>\n",
       "      <th>0</th>\n",
       "      <td>48.0</td>\n",
       "      <td>80.0</td>\n",
       "      <td>1.020</td>\n",
       "      <td>1.0</td>\n",
       "      <td>0.0</td>\n",
       "      <td>1</td>\n",
       "      <td>0</td>\n",
       "      <td>0</td>\n",
       "      <td>121.0</td>\n",
       "      <td>36.0</td>\n",
       "      <td>1.2</td>\n",
       "      <td>15.4</td>\n",
       "      <td>44.0</td>\n",
       "      <td>1</td>\n",
       "      <td>2</td>\n",
       "      <td>1</td>\n",
       "      <td>0</td>\n",
       "      <td>0</td>\n",
       "      <td>0</td>\n",
       "      <td>0</td>\n",
       "    </tr>\n",
       "    <tr>\n",
       "      <th>1</th>\n",
       "      <td>7.0</td>\n",
       "      <td>50.0</td>\n",
       "      <td>1.020</td>\n",
       "      <td>4.0</td>\n",
       "      <td>0.0</td>\n",
       "      <td>1</td>\n",
       "      <td>0</td>\n",
       "      <td>0</td>\n",
       "      <td>NaN</td>\n",
       "      <td>18.0</td>\n",
       "      <td>0.8</td>\n",
       "      <td>11.3</td>\n",
       "      <td>38.0</td>\n",
       "      <td>0</td>\n",
       "      <td>1</td>\n",
       "      <td>1</td>\n",
       "      <td>0</td>\n",
       "      <td>0</td>\n",
       "      <td>0</td>\n",
       "      <td>0</td>\n",
       "    </tr>\n",
       "    <tr>\n",
       "      <th>2</th>\n",
       "      <td>62.0</td>\n",
       "      <td>80.0</td>\n",
       "      <td>1.010</td>\n",
       "      <td>2.0</td>\n",
       "      <td>3.0</td>\n",
       "      <td>1</td>\n",
       "      <td>0</td>\n",
       "      <td>0</td>\n",
       "      <td>423.0</td>\n",
       "      <td>53.0</td>\n",
       "      <td>1.8</td>\n",
       "      <td>9.6</td>\n",
       "      <td>31.0</td>\n",
       "      <td>0</td>\n",
       "      <td>2</td>\n",
       "      <td>1</td>\n",
       "      <td>1</td>\n",
       "      <td>0</td>\n",
       "      <td>1</td>\n",
       "      <td>0</td>\n",
       "    </tr>\n",
       "    <tr>\n",
       "      <th>3</th>\n",
       "      <td>48.0</td>\n",
       "      <td>70.0</td>\n",
       "      <td>1.005</td>\n",
       "      <td>4.0</td>\n",
       "      <td>0.0</td>\n",
       "      <td>0</td>\n",
       "      <td>1</td>\n",
       "      <td>0</td>\n",
       "      <td>117.0</td>\n",
       "      <td>56.0</td>\n",
       "      <td>3.8</td>\n",
       "      <td>11.2</td>\n",
       "      <td>32.0</td>\n",
       "      <td>1</td>\n",
       "      <td>1</td>\n",
       "      <td>1</td>\n",
       "      <td>1</td>\n",
       "      <td>1</td>\n",
       "      <td>1</td>\n",
       "      <td>0</td>\n",
       "    </tr>\n",
       "    <tr>\n",
       "      <th>4</th>\n",
       "      <td>51.0</td>\n",
       "      <td>80.0</td>\n",
       "      <td>1.010</td>\n",
       "      <td>2.0</td>\n",
       "      <td>0.0</td>\n",
       "      <td>1</td>\n",
       "      <td>0</td>\n",
       "      <td>0</td>\n",
       "      <td>106.0</td>\n",
       "      <td>26.0</td>\n",
       "      <td>1.4</td>\n",
       "      <td>11.6</td>\n",
       "      <td>35.0</td>\n",
       "      <td>0</td>\n",
       "      <td>1</td>\n",
       "      <td>1</td>\n",
       "      <td>0</td>\n",
       "      <td>0</td>\n",
       "      <td>0</td>\n",
       "      <td>0</td>\n",
       "    </tr>\n",
       "    <tr>\n",
       "      <th>...</th>\n",
       "      <td>...</td>\n",
       "      <td>...</td>\n",
       "      <td>...</td>\n",
       "      <td>...</td>\n",
       "      <td>...</td>\n",
       "      <td>...</td>\n",
       "      <td>...</td>\n",
       "      <td>...</td>\n",
       "      <td>...</td>\n",
       "      <td>...</td>\n",
       "      <td>...</td>\n",
       "      <td>...</td>\n",
       "      <td>...</td>\n",
       "      <td>...</td>\n",
       "      <td>...</td>\n",
       "      <td>...</td>\n",
       "      <td>...</td>\n",
       "      <td>...</td>\n",
       "      <td>...</td>\n",
       "      <td>...</td>\n",
       "    </tr>\n",
       "    <tr>\n",
       "      <th>395</th>\n",
       "      <td>55.0</td>\n",
       "      <td>80.0</td>\n",
       "      <td>1.020</td>\n",
       "      <td>0.0</td>\n",
       "      <td>0.0</td>\n",
       "      <td>1</td>\n",
       "      <td>0</td>\n",
       "      <td>0</td>\n",
       "      <td>140.0</td>\n",
       "      <td>49.0</td>\n",
       "      <td>0.5</td>\n",
       "      <td>15.7</td>\n",
       "      <td>47.0</td>\n",
       "      <td>0</td>\n",
       "      <td>1</td>\n",
       "      <td>1</td>\n",
       "      <td>0</td>\n",
       "      <td>0</td>\n",
       "      <td>0</td>\n",
       "      <td>1</td>\n",
       "    </tr>\n",
       "    <tr>\n",
       "      <th>396</th>\n",
       "      <td>42.0</td>\n",
       "      <td>70.0</td>\n",
       "      <td>1.025</td>\n",
       "      <td>0.0</td>\n",
       "      <td>0.0</td>\n",
       "      <td>1</td>\n",
       "      <td>0</td>\n",
       "      <td>0</td>\n",
       "      <td>75.0</td>\n",
       "      <td>31.0</td>\n",
       "      <td>1.2</td>\n",
       "      <td>16.5</td>\n",
       "      <td>54.0</td>\n",
       "      <td>0</td>\n",
       "      <td>1</td>\n",
       "      <td>1</td>\n",
       "      <td>0</td>\n",
       "      <td>0</td>\n",
       "      <td>0</td>\n",
       "      <td>1</td>\n",
       "    </tr>\n",
       "    <tr>\n",
       "      <th>397</th>\n",
       "      <td>12.0</td>\n",
       "      <td>80.0</td>\n",
       "      <td>1.020</td>\n",
       "      <td>0.0</td>\n",
       "      <td>0.0</td>\n",
       "      <td>1</td>\n",
       "      <td>0</td>\n",
       "      <td>0</td>\n",
       "      <td>100.0</td>\n",
       "      <td>26.0</td>\n",
       "      <td>0.6</td>\n",
       "      <td>15.8</td>\n",
       "      <td>49.0</td>\n",
       "      <td>0</td>\n",
       "      <td>1</td>\n",
       "      <td>1</td>\n",
       "      <td>0</td>\n",
       "      <td>0</td>\n",
       "      <td>0</td>\n",
       "      <td>1</td>\n",
       "    </tr>\n",
       "    <tr>\n",
       "      <th>398</th>\n",
       "      <td>17.0</td>\n",
       "      <td>60.0</td>\n",
       "      <td>1.025</td>\n",
       "      <td>0.0</td>\n",
       "      <td>0.0</td>\n",
       "      <td>1</td>\n",
       "      <td>0</td>\n",
       "      <td>0</td>\n",
       "      <td>114.0</td>\n",
       "      <td>50.0</td>\n",
       "      <td>1.0</td>\n",
       "      <td>14.2</td>\n",
       "      <td>51.0</td>\n",
       "      <td>0</td>\n",
       "      <td>1</td>\n",
       "      <td>1</td>\n",
       "      <td>0</td>\n",
       "      <td>0</td>\n",
       "      <td>0</td>\n",
       "      <td>1</td>\n",
       "    </tr>\n",
       "    <tr>\n",
       "      <th>399</th>\n",
       "      <td>58.0</td>\n",
       "      <td>80.0</td>\n",
       "      <td>1.025</td>\n",
       "      <td>0.0</td>\n",
       "      <td>0.0</td>\n",
       "      <td>1</td>\n",
       "      <td>0</td>\n",
       "      <td>0</td>\n",
       "      <td>131.0</td>\n",
       "      <td>18.0</td>\n",
       "      <td>1.1</td>\n",
       "      <td>15.8</td>\n",
       "      <td>53.0</td>\n",
       "      <td>0</td>\n",
       "      <td>1</td>\n",
       "      <td>1</td>\n",
       "      <td>0</td>\n",
       "      <td>0</td>\n",
       "      <td>0</td>\n",
       "      <td>1</td>\n",
       "    </tr>\n",
       "  </tbody>\n",
       "</table>\n",
       "<p>400 rows × 20 columns</p>\n",
       "</div>"
      ],
      "text/plain": [
       "      age    bp     sg   al   su  pc  pcc  ba    bgr    bu   sc  hemo   pcv  \\\n",
       "0    48.0  80.0  1.020  1.0  0.0   1    0   0  121.0  36.0  1.2  15.4  44.0   \n",
       "1     7.0  50.0  1.020  4.0  0.0   1    0   0    NaN  18.0  0.8  11.3  38.0   \n",
       "2    62.0  80.0  1.010  2.0  3.0   1    0   0  423.0  53.0  1.8   9.6  31.0   \n",
       "3    48.0  70.0  1.005  4.0  0.0   0    1   0  117.0  56.0  3.8  11.2  32.0   \n",
       "4    51.0  80.0  1.010  2.0  0.0   1    0   0  106.0  26.0  1.4  11.6  35.0   \n",
       "..    ...   ...    ...  ...  ...  ..  ...  ..    ...   ...  ...   ...   ...   \n",
       "395  55.0  80.0  1.020  0.0  0.0   1    0   0  140.0  49.0  0.5  15.7  47.0   \n",
       "396  42.0  70.0  1.025  0.0  0.0   1    0   0   75.0  31.0  1.2  16.5  54.0   \n",
       "397  12.0  80.0  1.020  0.0  0.0   1    0   0  100.0  26.0  0.6  15.8  49.0   \n",
       "398  17.0  60.0  1.025  0.0  0.0   1    0   0  114.0  50.0  1.0  14.2  51.0   \n",
       "399  58.0  80.0  1.025  0.0  0.0   1    0   0  131.0  18.0  1.1  15.8  53.0   \n",
       "\n",
       "     htn  dm  cad  appet  pe  ane  classification  \n",
       "0      1   2    1      0   0    0               0  \n",
       "1      0   1    1      0   0    0               0  \n",
       "2      0   2    1      1   0    1               0  \n",
       "3      1   1    1      1   1    1               0  \n",
       "4      0   1    1      0   0    0               0  \n",
       "..   ...  ..  ...    ...  ..  ...             ...  \n",
       "395    0   1    1      0   0    0               1  \n",
       "396    0   1    1      0   0    0               1  \n",
       "397    0   1    1      0   0    0               1  \n",
       "398    0   1    1      0   0    0               1  \n",
       "399    0   1    1      0   0    0               1  \n",
       "\n",
       "[400 rows x 20 columns]"
      ]
     },
     "execution_count": 15,
     "metadata": {},
     "output_type": "execute_result"
    }
   ],
   "source": [
    "dataset"
   ]
  },
  {
   "cell_type": "code",
   "execution_count": 16,
   "metadata": {
    "colab": {
     "base_uri": "https://localhost:8080/",
     "height": 383
    },
    "executionInfo": {
     "elapsed": 2554,
     "status": "ok",
     "timestamp": 1663037109394,
     "user": {
      "displayName": "Mahedi Hassan",
      "userId": "15245640433343928993"
     },
     "user_tz": -360
    },
    "id": "13x_3-byNIbI",
    "outputId": "2d8966b8-9b3b-4c4c-8058-e44150094c5b"
   },
   "outputs": [
    {
     "data": {
      "text/plain": [
       "<Figure size 720x432 with 0 Axes>"
      ]
     },
     "metadata": {},
     "output_type": "display_data"
    },
    {
     "data": {
      "image/png": "[encoded data removed]",
      "text/plain": [
       "<Figure size 511.25x360 with 1 Axes>"
      ]
     },
     "metadata": {
      "needs_background": "light"
     },
     "output_type": "display_data"
    }
   ],
   "source": [
    "plt.figure(figsize=(10,6))\n",
    "sns.displot(\n",
    "    data=dataset.isna().melt(value_name=\"missing\"),\n",
    "    y=\"variable\",\n",
    "    hue=\"missing\",\n",
    "    multiple=\"fill\",\n",
    "    aspect=1.25\n",
    ")\n",
    "plt.savefig('missing_values.pdf')"
   ]
  },
  {
   "cell_type": "code",
   "execution_count": 17,
   "metadata": {
    "colab": {
     "base_uri": "https://localhost:8080/",
     "height": 383
    },
    "executionInfo": {
     "elapsed": 1886,
     "status": "ok",
     "timestamp": 1663037131854,
     "user": {
      "displayName": "Mahedi Hassan",
      "userId": "15245640433343928993"
     },
     "user_tz": -360
    },
    "id": "eurRX9vBW1k9",
    "outputId": "f881a2cf-8b0e-4ecf-dc56-ec8fe59201c5"
   },
   "outputs": [
    {
     "data": {
      "text/plain": [
       "<Figure size 720x432 with 0 Axes>"
      ]
     },
     "metadata": {},
     "output_type": "display_data"
    },
    {
     "data": {
      "image/png": "[encoded data removed]",
      "text/plain": [
       "<Figure size 511.25x360 with 1 Axes>"
      ]
     },
     "metadata": {
      "needs_background": "light"
     },
     "output_type": "display_data"
    }
   ],
   "source": [
    "df = pd.DataFrame(X, columns=column_names[:-1])\n",
    "plt.figure(figsize=(10,6))\n",
    "sns.displot(\n",
    "    data=df.isna().melt(value_name=\"missing\"),\n",
    "    y=\"variable\",\n",
    "    hue=\"missing\",\n",
    "    multiple=\"fill\",\n",
    "    aspect=1.25\n",
    ")\n",
    "plt.savefig('missing_filled.pdf')"
   ]
  },
  {
   "cell_type": "code",
   "execution_count": 18,
   "metadata": {
    "colab": {
     "base_uri": "https://localhost:8080/",
     "height": 434
    },
    "executionInfo": {
     "elapsed": 515,
     "status": "ok",
     "timestamp": 1663035897206,
     "user": {
      "displayName": "Mahedi Hassan",
      "userId": "15245640433343928993"
     },
     "user_tz": -360
    },
    "id": "tsFkuuxjW9A6",
    "outputId": "80568e0c-7506-4caa-a6c4-f4f7094bfda9"
   },
   "outputs": [
    {
     "name": "stderr",
     "output_type": "stream",
     "text": [
      "/home/nsl50/anaconda3/lib/python3.9/site-packages/seaborn/_decorators.py:36: FutureWarning: Pass the following variable as a keyword arg: x. From version 0.12, the only valid positional argument will be `data`, and passing other arguments without an explicit keyword will result in an error or misinterpretation.\n",
      "  warnings.warn(\n"
     ]
    },
    {
     "data": {
      "image/png": "[encoded data removed]",
      "text/plain": [
       "<Figure size 720x432 with 1 Axes>"
      ]
     },
     "metadata": {},
     "output_type": "display_data"
    }
   ],
   "source": [
    "sns.set(rc = {'figure.figsize':(10,6)})\n",
    "ax = sns.countplot('classification', data = dataset)\n",
    "ax.set(xlabel=None)\n",
    "plt.savefig('before_smote.pdf')"
   ]
  },
  {
   "cell_type": "code",
   "execution_count": 19,
   "metadata": {},
   "outputs": [
    {
     "name": "stdout",
     "output_type": "stream",
     "text": [
      "[[0]\n",
      " [0]\n",
      " [0]\n",
      " [0]\n",
      " [0]\n",
      " [0]\n",
      " [0]\n",
      " [0]\n",
      " [0]\n",
      " [0]\n",
      " [0]\n",
      " [0]\n",
      " [0]\n",
      " [0]\n",
      " [0]\n",
      " [0]\n",
      " [0]\n",
      " [0]\n",
      " [0]\n",
      " [0]\n",
      " [0]\n",
      " [0]\n",
      " [0]\n",
      " [0]\n",
      " [0]\n",
      " [0]\n",
      " [0]\n",
      " [0]\n",
      " [0]\n",
      " [0]\n",
      " [0]\n",
      " [0]\n",
      " [0]\n",
      " [0]\n",
      " [0]\n",
      " [0]\n",
      " [0]\n",
      " [0]\n",
      " [0]\n",
      " [0]\n",
      " [0]\n",
      " [0]\n",
      " [0]\n",
      " [0]\n",
      " [0]\n",
      " [0]\n",
      " [0]\n",
      " [0]\n",
      " [0]\n",
      " [0]\n",
      " [0]\n",
      " [0]\n",
      " [0]\n",
      " [0]\n",
      " [0]\n",
      " [0]\n",
      " [0]\n",
      " [0]\n",
      " [0]\n",
      " [0]\n",
      " [0]\n",
      " [0]\n",
      " [0]\n",
      " [0]\n",
      " [0]\n",
      " [0]\n",
      " [0]\n",
      " [0]\n",
      " [0]\n",
      " [0]\n",
      " [0]\n",
      " [0]\n",
      " [0]\n",
      " [0]\n",
      " [0]\n",
      " [0]\n",
      " [0]\n",
      " [0]\n",
      " [0]\n",
      " [0]\n",
      " [0]\n",
      " [0]\n",
      " [0]\n",
      " [0]\n",
      " [0]\n",
      " [0]\n",
      " [0]\n",
      " [0]\n",
      " [0]\n",
      " [0]\n",
      " [0]\n",
      " [0]\n",
      " [0]\n",
      " [0]\n",
      " [0]\n",
      " [0]\n",
      " [0]\n",
      " [0]\n",
      " [0]\n",
      " [0]\n",
      " [0]\n",
      " [0]\n",
      " [0]\n",
      " [0]\n",
      " [0]\n",
      " [0]\n",
      " [0]\n",
      " [0]\n",
      " [0]\n",
      " [0]\n",
      " [0]\n",
      " [0]\n",
      " [0]\n",
      " [0]\n",
      " [0]\n",
      " [0]\n",
      " [0]\n",
      " [0]\n",
      " [0]\n",
      " [0]\n",
      " [0]\n",
      " [0]\n",
      " [0]\n",
      " [0]\n",
      " [0]\n",
      " [0]\n",
      " [0]\n",
      " [0]\n",
      " [0]\n",
      " [0]\n",
      " [0]\n",
      " [0]\n",
      " [0]\n",
      " [0]\n",
      " [0]\n",
      " [0]\n",
      " [0]\n",
      " [0]\n",
      " [0]\n",
      " [0]\n",
      " [0]\n",
      " [0]\n",
      " [0]\n",
      " [0]\n",
      " [0]\n",
      " [0]\n",
      " [0]\n",
      " [0]\n",
      " [0]\n",
      " [0]\n",
      " [0]\n",
      " [0]\n",
      " [0]\n",
      " [0]\n",
      " [0]\n",
      " [0]\n",
      " [0]\n",
      " [0]\n",
      " [0]\n",
      " [0]\n",
      " [0]\n",
      " [0]\n",
      " [0]\n",
      " [0]\n",
      " [0]\n",
      " [0]\n",
      " [0]\n",
      " [0]\n",
      " [0]\n",
      " [0]\n",
      " [0]\n",
      " [0]\n",
      " [0]\n",
      " [0]\n",
      " [0]\n",
      " [0]\n",
      " [0]\n",
      " [0]\n",
      " [0]\n",
      " [0]\n",
      " [0]\n",
      " [0]\n",
      " [0]\n",
      " [0]\n",
      " [0]\n",
      " [0]\n",
      " [0]\n",
      " [0]\n",
      " [0]\n",
      " [0]\n",
      " [0]\n",
      " [0]\n",
      " [0]\n",
      " [0]\n",
      " [0]\n",
      " [0]\n",
      " [0]\n",
      " [0]\n",
      " [0]\n",
      " [0]\n",
      " [0]\n",
      " [0]\n",
      " [0]\n",
      " [0]\n",
      " [0]\n",
      " [0]\n",
      " [0]\n",
      " [0]\n",
      " [0]\n",
      " [0]\n",
      " [0]\n",
      " [0]\n",
      " [0]\n",
      " [0]\n",
      " [0]\n",
      " [0]\n",
      " [0]\n",
      " [0]\n",
      " [0]\n",
      " [0]\n",
      " [0]\n",
      " [0]\n",
      " [0]\n",
      " [0]\n",
      " [0]\n",
      " [0]\n",
      " [0]\n",
      " [0]\n",
      " [0]\n",
      " [0]\n",
      " [0]\n",
      " [0]\n",
      " [0]\n",
      " [0]\n",
      " [0]\n",
      " [0]\n",
      " [0]\n",
      " [0]\n",
      " [0]\n",
      " [0]\n",
      " [0]\n",
      " [0]\n",
      " [0]\n",
      " [0]\n",
      " [0]\n",
      " [0]\n",
      " [0]\n",
      " [0]\n",
      " [0]\n",
      " [0]\n",
      " [1]\n",
      " [1]\n",
      " [1]\n",
      " [1]\n",
      " [1]\n",
      " [1]\n",
      " [1]\n",
      " [1]\n",
      " [1]\n",
      " [1]\n",
      " [1]\n",
      " [1]\n",
      " [1]\n",
      " [1]\n",
      " [1]\n",
      " [1]\n",
      " [1]\n",
      " [1]\n",
      " [1]\n",
      " [1]\n",
      " [1]\n",
      " [1]\n",
      " [1]\n",
      " [1]\n",
      " [1]\n",
      " [1]\n",
      " [1]\n",
      " [1]\n",
      " [1]\n",
      " [1]\n",
      " [1]\n",
      " [1]\n",
      " [1]\n",
      " [1]\n",
      " [1]\n",
      " [1]\n",
      " [1]\n",
      " [1]\n",
      " [1]\n",
      " [1]\n",
      " [1]\n",
      " [1]\n",
      " [1]\n",
      " [1]\n",
      " [1]\n",
      " [1]\n",
      " [1]\n",
      " [1]\n",
      " [1]\n",
      " [1]\n",
      " [1]\n",
      " [1]\n",
      " [1]\n",
      " [1]\n",
      " [1]\n",
      " [1]\n",
      " [1]\n",
      " [1]\n",
      " [1]\n",
      " [1]\n",
      " [1]\n",
      " [1]\n",
      " [1]\n",
      " [1]\n",
      " [1]\n",
      " [1]\n",
      " [1]\n",
      " [1]\n",
      " [1]\n",
      " [1]\n",
      " [1]\n",
      " [1]\n",
      " [1]\n",
      " [1]\n",
      " [1]\n",
      " [1]\n",
      " [1]\n",
      " [1]\n",
      " [1]\n",
      " [1]\n",
      " [1]\n",
      " [1]\n",
      " [1]\n",
      " [1]\n",
      " [1]\n",
      " [1]\n",
      " [1]\n",
      " [1]\n",
      " [1]\n",
      " [1]\n",
      " [1]\n",
      " [1]\n",
      " [1]\n",
      " [1]\n",
      " [1]\n",
      " [1]\n",
      " [1]\n",
      " [1]\n",
      " [1]\n",
      " [1]\n",
      " [1]\n",
      " [1]\n",
      " [1]\n",
      " [1]\n",
      " [1]\n",
      " [1]\n",
      " [1]\n",
      " [1]\n",
      " [1]\n",
      " [1]\n",
      " [1]\n",
      " [1]\n",
      " [1]\n",
      " [1]\n",
      " [1]\n",
      " [1]\n",
      " [1]\n",
      " [1]\n",
      " [1]\n",
      " [1]\n",
      " [1]\n",
      " [1]\n",
      " [1]\n",
      " [1]\n",
      " [1]\n",
      " [1]\n",
      " [1]\n",
      " [1]\n",
      " [1]\n",
      " [1]\n",
      " [1]\n",
      " [1]\n",
      " [1]\n",
      " [1]\n",
      " [1]\n",
      " [1]\n",
      " [1]\n",
      " [1]\n",
      " [1]\n",
      " [1]\n",
      " [1]\n",
      " [1]\n",
      " [1]\n",
      " [1]\n",
      " [1]\n",
      " [1]\n",
      " [1]\n",
      " [1]\n",
      " [1]\n",
      " [1]]\n"
     ]
    }
   ],
   "source": [
    "import imblearn\n",
    "print(y)"
   ]
  },
  {
   "cell_type": "code",
   "execution_count": 20,
   "metadata": {
    "colab": {
     "base_uri": "https://localhost:8080/"
    },
    "executionInfo": {
     "elapsed": 453,
     "status": "ok",
     "timestamp": 1663035119775,
     "user": {
      "displayName": "Mahedi Hassan",
      "userId": "15245640433343928993"
     },
     "user_tz": -360
    },
    "id": "cDIAQ0OPJCMM",
    "outputId": "a99a1146-8d5d-4c12-9455-336ca3ff899a"
   },
   "outputs": [
    {
     "name": "stderr",
     "output_type": "stream",
     "text": [
      "/home/nsl50/anaconda3/lib/python3.9/site-packages/imblearn/utils/_validation.py:586: FutureWarning: Pass sampling_strategy=1.0 as keyword args. From version 0.9 passing these as positional arguments will result in an error\n",
      "  warnings.warn(\n"
     ]
    },
    {
     "name": "stdout",
     "output_type": "stream",
     "text": [
      "(486, 19)\n",
      "(486,)\n"
     ]
    }
   ],
   "source": [
    "# from imblearn.over_sampling import SVMSMOTE\n",
    "# ros = SVMSMOTE(k_neighbors=5)\n",
    "# print(y.shape)\n",
    "# X, y = ros.fit_resample(X, y)\n",
    "# print(y.shape)\n",
    "from imblearn.combine import SMOTETomek\n",
    "ros = SMOTETomek(1.00)\n",
    "X,y=ros.fit_resample(X,y)\n",
    "print(X.shape)\n",
    "print(y.shape)"
   ]
  },
  {
   "cell_type": "code",
   "execution_count": 21,
   "metadata": {},
   "outputs": [
    {
     "name": "stdout",
     "output_type": "stream",
     "text": [
      "[0 0 0 0 0 0 0 0 0 0 0 0 0 0 0 0 0 0 0 0 0 0 0 0 0 0 0 0 0 0 0 0 0 0 0 0 0\n",
      " 0 0 0 0 0 0 0 0 0 0 0 0 0 0 0 0 0 0 0 0 0 0 0 0 0 0 0 0 0 0 0 0 0 0 0 0 0\n",
      " 0 0 0 0 0 0 0 0 0 0 0 0 0 0 0 0 0 0 0 0 0 0 0 0 0 0 0 0 0 0 0 0 0 0 0 0 0\n",
      " 0 0 0 0 0 0 0 0 0 0 0 0 0 0 0 0 0 0 0 0 0 0 0 0 0 0 0 0 0 0 0 0 0 0 0 0 0\n",
      " 0 0 0 0 0 0 0 0 0 0 0 0 0 0 0 0 0 0 0 0 0 0 0 0 0 0 0 0 0 0 0 0 0 0 0 0 0\n",
      " 0 0 0 0 0 0 0 0 0 0 0 0 0 0 0 0 0 0 0 0 0 0 0 0 0 0 0 0 0 0 0 0 0 0 0 0 0\n",
      " 0 0 0 0 0 0 0 0 0 0 0 0 0 0 0 0 0 0 0 0 0 1 1 1 1 1 1 1 1 1 1 1 1 1 1 1 1\n",
      " 1 1 1 1 1 1 1 1 1 1 1 1 1 1 1 1 1 1 1 1 1 1 1 1 1 1 1 1 1 1 1 1 1 1 1 1 1\n",
      " 1 1 1 1 1 1 1 1 1 1 1 1 1 1 1 1 1 1 1 1 1 1 1 1 1 1 1 1 1 1 1 1 1 1 1 1 1\n",
      " 1 1 1 1 1 1 1 1 1 1 1 1 1 1 1 1 1 1 1 1 1 1 1 1 1 1 1 1 1 1 1 1 1 1 1 1 1\n",
      " 1 1 1 1 1 1 1 1 1 1 1 1 1 1 1 1 1 1 1 1 1 1 1 1 1 1 1 1 1 1 1 1 1 1 1 1 1\n",
      " 1 1 1 1 1 1 1 1 1 1 1 1 1 1 1 1 1 1 1 1 1 1 1 1 1 1 1 1 1 1 1 1 1 1 1 1 1\n",
      " 1 1 1 1 1 1 1 1 1 1 1 1 1 1 1 1 1 1 1 1 1 1 1 1 1 1 1 1 1 1 1 1 1 1 1 1 1\n",
      " 1 1 1 1 1]\n"
     ]
    }
   ],
   "source": [
    "print(y)"
   ]
  },
  {
   "cell_type": "code",
   "execution_count": 22,
   "metadata": {
    "colab": {
     "base_uri": "https://localhost:8080/",
     "height": 434
    },
    "executionInfo": {
     "elapsed": 1012,
     "status": "ok",
     "timestamp": 1663035198568,
     "user": {
      "displayName": "Mahedi Hassan",
      "userId": "15245640433343928993"
     },
     "user_tz": -360
    },
    "id": "UdOcDYM7Ufx5",
    "outputId": "1349ccda-7c31-477a-ceeb-e7ce166bbcba"
   },
   "outputs": [
    {
     "name": "stderr",
     "output_type": "stream",
     "text": [
      "/home/nsl50/anaconda3/lib/python3.9/site-packages/seaborn/_decorators.py:36: FutureWarning: Pass the following variable as a keyword arg: x. From version 0.12, the only valid positional argument will be `data`, and passing other arguments without an explicit keyword will result in an error or misinterpretation.\n",
      "  warnings.warn(\n"
     ]
    },
    {
     "data": {
      "text/plain": [
       "<AxesSubplot:ylabel='count'>"
      ]
     },
     "execution_count": 22,
     "metadata": {},
     "output_type": "execute_result"
    },
    {
     "data": {
      "image/png": "[encoded data removed]",
      "text/plain": [
       "<Figure size 720x432 with 1 Axes>"
      ]
     },
     "metadata": {},
     "output_type": "display_data"
    }
   ],
   "source": [
    "sns.countplot(y)\n",
    "#plt.savefig('after_smote.pdf')"
   ]
  },
  {
   "cell_type": "markdown",
   "metadata": {
    "id": "gar4fNjcfGFg"
   },
   "source": [
    "#Feature Selection"
   ]
  },
  {
   "cell_type": "markdown",
   "metadata": {
    "id": "DUSgDZxqfI-g"
   },
   "source": [
    "Strongly correlated features are selected here"
   ]
  },
  {
   "cell_type": "code",
   "execution_count": 23,
   "metadata": {
    "colab": {
     "base_uri": "https://localhost:8080/",
     "height": 686
    },
    "executionInfo": {
     "elapsed": 505,
     "status": "ok",
     "timestamp": 1662975014037,
     "user": {
      "displayName": "Tanvir Ahamad",
      "userId": "18240550577258724459"
     },
     "user_tz": -360
    },
    "id": "gC7C9oySfPml",
    "outputId": "db5efd25-5276-41ec-c0e3-5d17af4fd1a2"
   },
   "outputs": [
    {
     "name": "stdout",
     "output_type": "stream",
     "text": [
      "<class 'pandas.core.frame.DataFrame'>\n",
      "RangeIndex: 486 entries, 0 to 485\n",
      "Data columns (total 11 columns):\n",
      " #   Column  Non-Null Count  Dtype  \n",
      "---  ------  --------------  -----  \n",
      " 0   sg      486 non-null    float64\n",
      " 1   al      486 non-null    float64\n",
      " 2   su      486 non-null    float64\n",
      " 3   bgr     486 non-null    float64\n",
      " 4   bu      486 non-null    float64\n",
      " 5   sc      486 non-null    float64\n",
      " 6   hemo    486 non-null    float64\n",
      " 7   htn     486 non-null    float64\n",
      " 8   dm      486 non-null    float64\n",
      " 9   appet   486 non-null    float64\n",
      " 10  pe      486 non-null    float64\n",
      "dtypes: float64(11)\n",
      "memory usage: 41.9 KB\n"
     ]
    },
    {
     "data": {
      "text/html": [
       "<div>\n",
       "<style scoped>\n",
       "    .dataframe tbody tr th:only-of-type {\n",
       "        vertical-align: middle;\n",
       "    }\n",
       "\n",
       "    .dataframe tbody tr th {\n",
       "        vertical-align: top;\n",
       "    }\n",
       "\n",
       "    .dataframe thead th {\n",
       "        text-align: right;\n",
       "    }\n",
       "</style>\n",
       "<table border=\"1\" class=\"dataframe\">\n",
       "  <thead>\n",
       "    <tr style=\"text-align: right;\">\n",
       "      <th></th>\n",
       "      <th>sg</th>\n",
       "      <th>al</th>\n",
       "      <th>su</th>\n",
       "      <th>bgr</th>\n",
       "      <th>bu</th>\n",
       "      <th>sc</th>\n",
       "      <th>hemo</th>\n",
       "      <th>htn</th>\n",
       "      <th>dm</th>\n",
       "      <th>appet</th>\n",
       "      <th>pe</th>\n",
       "    </tr>\n",
       "  </thead>\n",
       "  <tbody>\n",
       "    <tr>\n",
       "      <th>count</th>\n",
       "      <td>486.000000</td>\n",
       "      <td>486.000000</td>\n",
       "      <td>486.000000</td>\n",
       "      <td>486.000000</td>\n",
       "      <td>486.000000</td>\n",
       "      <td>486.000000</td>\n",
       "      <td>486.000000</td>\n",
       "      <td>486.000000</td>\n",
       "      <td>486.000000</td>\n",
       "      <td>486.000000</td>\n",
       "      <td>486.000000</td>\n",
       "    </tr>\n",
       "    <tr>\n",
       "      <th>mean</th>\n",
       "      <td>1.018227</td>\n",
       "      <td>0.834670</td>\n",
       "      <td>0.385242</td>\n",
       "      <td>141.881753</td>\n",
       "      <td>53.070871</td>\n",
       "      <td>2.678000</td>\n",
       "      <td>13.071764</td>\n",
       "      <td>0.304527</td>\n",
       "      <td>1.279835</td>\n",
       "      <td>0.173172</td>\n",
       "      <td>0.158769</td>\n",
       "    </tr>\n",
       "    <tr>\n",
       "      <th>std</th>\n",
       "      <td>0.005365</td>\n",
       "      <td>1.220392</td>\n",
       "      <td>0.963759</td>\n",
       "      <td>70.792742</td>\n",
       "      <td>46.190067</td>\n",
       "      <td>5.196384</td>\n",
       "      <td>2.737954</td>\n",
       "      <td>0.469547</td>\n",
       "      <td>0.462941</td>\n",
       "      <td>0.384695</td>\n",
       "      <td>0.371951</td>\n",
       "    </tr>\n",
       "    <tr>\n",
       "      <th>min</th>\n",
       "      <td>1.005000</td>\n",
       "      <td>0.000000</td>\n",
       "      <td>0.000000</td>\n",
       "      <td>22.000000</td>\n",
       "      <td>1.500000</td>\n",
       "      <td>0.400000</td>\n",
       "      <td>3.100000</td>\n",
       "      <td>0.000000</td>\n",
       "      <td>0.000000</td>\n",
       "      <td>0.000000</td>\n",
       "      <td>0.000000</td>\n",
       "    </tr>\n",
       "    <tr>\n",
       "      <th>25%</th>\n",
       "      <td>1.015000</td>\n",
       "      <td>0.000000</td>\n",
       "      <td>0.000000</td>\n",
       "      <td>100.000000</td>\n",
       "      <td>26.930505</td>\n",
       "      <td>0.860279</td>\n",
       "      <td>11.100000</td>\n",
       "      <td>0.000000</td>\n",
       "      <td>1.000000</td>\n",
       "      <td>0.000000</td>\n",
       "      <td>0.000000</td>\n",
       "    </tr>\n",
       "    <tr>\n",
       "      <th>50%</th>\n",
       "      <td>1.020000</td>\n",
       "      <td>0.000000</td>\n",
       "      <td>0.000000</td>\n",
       "      <td>120.000000</td>\n",
       "      <td>40.000000</td>\n",
       "      <td>1.200000</td>\n",
       "      <td>13.600000</td>\n",
       "      <td>0.000000</td>\n",
       "      <td>1.000000</td>\n",
       "      <td>0.000000</td>\n",
       "      <td>0.000000</td>\n",
       "    </tr>\n",
       "    <tr>\n",
       "      <th>75%</th>\n",
       "      <td>1.022794</td>\n",
       "      <td>1.428571</td>\n",
       "      <td>0.000000</td>\n",
       "      <td>149.500000</td>\n",
       "      <td>54.000000</td>\n",
       "      <td>2.396429</td>\n",
       "      <td>15.026614</td>\n",
       "      <td>1.000000</td>\n",
       "      <td>2.000000</td>\n",
       "      <td>0.000000</td>\n",
       "      <td>0.000000</td>\n",
       "    </tr>\n",
       "    <tr>\n",
       "      <th>max</th>\n",
       "      <td>1.025000</td>\n",
       "      <td>5.000000</td>\n",
       "      <td>5.000000</td>\n",
       "      <td>490.000000</td>\n",
       "      <td>391.000000</td>\n",
       "      <td>76.000000</td>\n",
       "      <td>17.800000</td>\n",
       "      <td>2.000000</td>\n",
       "      <td>3.000000</td>\n",
       "      <td>2.000000</td>\n",
       "      <td>2.000000</td>\n",
       "    </tr>\n",
       "  </tbody>\n",
       "</table>\n",
       "</div>"
      ],
      "text/plain": [
       "               sg          al          su         bgr          bu          sc  \\\n",
       "count  486.000000  486.000000  486.000000  486.000000  486.000000  486.000000   \n",
       "mean     1.018227    0.834670    0.385242  141.881753   53.070871    2.678000   \n",
       "std      0.005365    1.220392    0.963759   70.792742   46.190067    5.196384   \n",
       "min      1.005000    0.000000    0.000000   22.000000    1.500000    0.400000   \n",
       "25%      1.015000    0.000000    0.000000  100.000000   26.930505    0.860279   \n",
       "50%      1.020000    0.000000    0.000000  120.000000   40.000000    1.200000   \n",
       "75%      1.022794    1.428571    0.000000  149.500000   54.000000    2.396429   \n",
       "max      1.025000    5.000000    5.000000  490.000000  391.000000   76.000000   \n",
       "\n",
       "             hemo         htn          dm       appet          pe  \n",
       "count  486.000000  486.000000  486.000000  486.000000  486.000000  \n",
       "mean    13.071764    0.304527    1.279835    0.173172    0.158769  \n",
       "std      2.737954    0.469547    0.462941    0.384695    0.371951  \n",
       "min      3.100000    0.000000    0.000000    0.000000    0.000000  \n",
       "25%     11.100000    0.000000    1.000000    0.000000    0.000000  \n",
       "50%     13.600000    0.000000    1.000000    0.000000    0.000000  \n",
       "75%     15.026614    1.000000    2.000000    0.000000    0.000000  \n",
       "max     17.800000    2.000000    3.000000    2.000000    2.000000  "
      ]
     },
     "execution_count": 23,
     "metadata": {},
     "output_type": "execute_result"
    }
   ],
   "source": [
    "df = pd.DataFrame(X, columns=column_names[:-1])\n",
    "df.drop(['bp','pc','cad','ane','age','pcc','ba','pcv'], axis=1, inplace=True)\n",
    "df.info()\n",
    "df.describe()"
   ]
  },
  {
   "cell_type": "markdown",
   "metadata": {
    "id": "OcrBIKH4ZQLY"
   },
   "source": [
    "Here are 10 features (sg, al, su, bgr, bu, sc, hemo, htn, dm, appet, pe)"
   ]
  },
  {
   "cell_type": "code",
   "execution_count": 24,
   "metadata": {
    "colab": {
     "base_uri": "https://localhost:8080/"
    },
    "executionInfo": {
     "elapsed": 459,
     "status": "ok",
     "timestamp": 1662975018429,
     "user": {
      "displayName": "Tanvir Ahamad",
      "userId": "18240550577258724459"
     },
     "user_tz": -360
    },
    "id": "D9yyFkV4OBNE",
    "outputId": "a0065b24-6821-4db8-99dd-02735111905e"
   },
   "outputs": [
    {
     "name": "stdout",
     "output_type": "stream",
     "text": [
      "      column_name  percent_missing\n",
      "sg             sg              0.0\n",
      "al             al              0.0\n",
      "su             su              0.0\n",
      "bgr           bgr              0.0\n",
      "bu             bu              0.0\n",
      "sc             sc              0.0\n",
      "hemo         hemo              0.0\n",
      "htn           htn              0.0\n",
      "dm             dm              0.0\n",
      "appet       appet              0.0\n",
      "pe             pe              0.0\n"
     ]
    }
   ],
   "source": [
    "percent_missing = df.isnull().sum() * 100 / len(df)\n",
    "missing_value_df = pd.DataFrame({'column_name': df.columns,\n",
    "                                 'percent_missing': percent_missing})\n",
    "print(missing_value_df)"
   ]
  },
  {
   "cell_type": "code",
   "execution_count": 25,
   "metadata": {
    "id": "ZpXCos1S1zVn"
   },
   "outputs": [],
   "source": [
    "X = df.iloc[:,:].values"
   ]
  },
  {
   "cell_type": "markdown",
   "metadata": {
    "id": "awEmywdp-Zv_"
   },
   "source": [
    "**Code for Cross validation**"
   ]
  },
  {
   "cell_type": "code",
   "execution_count": 26,
   "metadata": {
    "colab": {
     "base_uri": "https://localhost:8080/"
    },
    "executionInfo": {
     "elapsed": 5,
     "status": "ok",
     "timestamp": 1662975022325,
     "user": {
      "displayName": "Tanvir Ahamad",
      "userId": "18240550577258724459"
     },
     "user_tz": -360
    },
    "id": "n7Jmmf-79wp1",
    "outputId": "7428f5cd-bc70-48ac-d0f2-7ea9a854a5b4"
   },
   "outputs": [
    {
     "name": "stdout",
     "output_type": "stream",
     "text": [
      "(486, 11)\n",
      "(486,)\n"
     ]
    }
   ],
   "source": [
    "print(X.shape)\n",
    "print(y.shape)"
   ]
  },
  {
   "cell_type": "code",
   "execution_count": 27,
   "metadata": {
    "id": "qbTc-Z4C-jUU"
   },
   "outputs": [],
   "source": [
    "from sklearn.model_selection import train_test_split\n",
    "x_Train, x_Test, y_Train, y_Test = train_test_split(X, y, test_size=0.15, random_state=0)"
   ]
  },
  {
   "cell_type": "code",
   "execution_count": 28,
   "metadata": {
    "id": "f5ZVnIQ1_Mjx"
   },
   "outputs": [],
   "source": [
    "from sklearn.preprocessing import StandardScaler\n",
    "scaler = StandardScaler()\n",
    "x_Train = scaler.fit_transform(x_Train)\n",
    "x_Test = scaler.transform(x_Test)"
   ]
  },
  {
   "cell_type": "code",
   "execution_count": 29,
   "metadata": {
    "colab": {
     "base_uri": "https://localhost:8080/"
    },
    "executionInfo": {
     "elapsed": 3,
     "status": "ok",
     "timestamp": 1662975026670,
     "user": {
      "displayName": "Tanvir Ahamad",
      "userId": "18240550577258724459"
     },
     "user_tz": -360
    },
    "id": "k34cPdfI_QYS",
    "outputId": "3edf1525-8080-426e-f1ac-ee7cd7f3c6cb"
   },
   "outputs": [
    {
     "name": "stdout",
     "output_type": "stream",
     "text": [
      "[0, 1, 4, 6, 8, 12, 13, 14, 17, 19, 20, 21, 22, 25, 26, 28, 31, 32, 34, 35, 37, 39, 41, 42, 43, 44, 48, 49, 50, 52, 54, 60, 64, 71, 74, 75, 77, 78, 80, 81, 82, 83, 85, 86, 88, 89, 90, 93, 95, 96, 97, 98, 100, 101, 103, 104, 105, 111, 112, 114, 115, 117, 121, 123, 127, 132, 133, 135, 138, 140, 142, 143, 144, 147, 150, 152, 153, 154, 157, 167, 168, 169, 170, 171, 173, 176, 177, 178, 181, 183, 185, 186, 187, 190, 191, 193, 194, 198, 199, 200, 202, 207, 215, 216, 218, 219, 221, 222, 224, 225, 226, 230, 231, 236, 238, 241, 242, 243, 244, 245, 247, 248, 250, 252, 254, 255, 258, 259, 260, 261, 262, 264, 266, 267, 269, 271, 273, 276, 279, 280, 281, 285, 292, 294, 295, 296, 298, 299, 301, 303, 306, 308, 309, 311, 315, 317, 319, 320, 321, 322, 326, 327, 328, 329, 330, 333, 335, 336, 338, 339, 340, 341, 344, 345, 346, 347, 349, 351, 352, 354, 357, 360, 366, 367, 368, 369, 370, 372, 373, 376, 377, 378, 379, 381, 383, 384, 386, 389, 390, 392, 395, 396, 400, 402, 405, 407, 408]\n"
     ]
    },
    {
     "data": {
      "text/plain": [
       "207"
      ]
     },
     "execution_count": 29,
     "metadata": {},
     "output_type": "execute_result"
    }
   ],
   "source": [
    "non_ckd = []\n",
    "ckd = []\n",
    "j=0\n",
    "for i in y_Train:\n",
    "  if i == 0:\n",
    "    non_ckd.append(j)\n",
    "  elif i == 1:\n",
    "    ckd.append(j)\n",
    "  j += 1\n",
    "print(ckd)\n",
    "len(ckd)"
   ]
  },
  {
   "cell_type": "code",
   "execution_count": 30,
   "metadata": {
    "id": "C_c5y4kR_xHU"
   },
   "outputs": [
    {
     "ename": "IndexError",
     "evalue": "list index out of range",
     "output_type": "error",
     "traceback": [
      "\u001b[0;31m---------------------------------------------------------------------------\u001b[0m",
      "\u001b[0;31mIndexError\u001b[0m                                Traceback (most recent call last)",
      "\u001b[0;32m/tmp/ipykernel_32513/1697155936.py\u001b[0m in \u001b[0;36m<module>\u001b[0;34m\u001b[0m\n\u001b[1;32m     44\u001b[0m         \u001b[0mi\u001b[0m \u001b[0;34m+=\u001b[0m \u001b[0;36m1\u001b[0m\u001b[0;34m\u001b[0m\u001b[0;34m\u001b[0m\u001b[0m\n\u001b[1;32m     45\u001b[0m       \u001b[0;32melse\u001b[0m\u001b[0;34m:\u001b[0m\u001b[0;34m\u001b[0m\u001b[0;34m\u001b[0m\u001b[0m\n\u001b[0;32m---> 46\u001b[0;31m         \u001b[0mk5\u001b[0m\u001b[0;34m.\u001b[0m\u001b[0mappend\u001b[0m\u001b[0;34m(\u001b[0m\u001b[0mnon_ckd\u001b[0m\u001b[0;34m[\u001b[0m\u001b[0mk\u001b[0m\u001b[0;34m]\u001b[0m\u001b[0;34m)\u001b[0m\u001b[0;34m\u001b[0m\u001b[0;34m\u001b[0m\u001b[0m\n\u001b[0m\u001b[1;32m     47\u001b[0m         \u001b[0mk\u001b[0m \u001b[0;34m+=\u001b[0m \u001b[0;36m1\u001b[0m\u001b[0;34m\u001b[0m\u001b[0;34m\u001b[0m\u001b[0m\n",
      "\u001b[0;31mIndexError\u001b[0m: list index out of range"
     ]
    }
   ],
   "source": [
    "k1 = []\n",
    "k2 = []\n",
    "k3 = []\n",
    "k4 = []\n",
    "k5 = []\n",
    "i = 0\n",
    "k = 0\n",
    "for j in range(0,425):\n",
    "    if j < 85:\n",
    "      if j % 2 == 0:\n",
    "        k1.append(ckd[i])\n",
    "        i += 1\n",
    "      else:\n",
    "        k1.append(non_ckd[k])\n",
    "        k += 1\n",
    "\n",
    "    elif j < 170:\n",
    "      if j % 2 == 0:\n",
    "        k2.append(ckd[i])\n",
    "        i += 1\n",
    "      else:\n",
    "        k2.append(non_ckd[k])\n",
    "        k += 1\n",
    "\n",
    "    elif j < 255:\n",
    "      if j % 2 == 0:\n",
    "        k3.append(ckd[i])\n",
    "        i += 1\n",
    "      else:\n",
    "        k3.append(non_ckd[k])\n",
    "        k += 1\n",
    "\n",
    "    elif j < 340:\n",
    "      if j % 2 == 0:\n",
    "        k4.append(ckd[i])\n",
    "        i += 1\n",
    "      else:\n",
    "        k4.append(non_ckd[k])\n",
    "        k += 1\n",
    "\n",
    "    else:\n",
    "      if j % 2 == 0:\n",
    "        k5.append(ckd[i])\n",
    "        i += 1\n",
    "      else:\n",
    "        k5.append(non_ckd[k])\n",
    "        k += 1"
   ]
  },
  {
   "cell_type": "code",
   "execution_count": null,
   "metadata": {
    "id": "ukcgbRmO_-U4"
   },
   "outputs": [],
   "source": [
    "Xtrain_cv1 = []\n",
    "Xtrain_cv2 = []\n",
    "Xtrain_cv3 = []\n",
    "Xtrain_cv4 = []\n",
    "Xtrain_cv5 = []\n",
    "ytrain_cv1 = []\n",
    "ytrain_cv2 = []\n",
    "ytrain_cv3 = []\n",
    "ytrain_cv4 = []\n",
    "ytrain_cv5 = []\n",
    "Xtest_cv1 = []\n",
    "Xtest_cv2 = []\n",
    "Xtest_cv3 = []\n",
    "Xtest_cv4 = []\n",
    "Xtest_cv5 = []\n",
    "ytest_cv1 = []\n",
    "ytest_cv2 = []\n",
    "ytest_cv3 = []\n",
    "ytest_cv4 = []\n",
    "ytest_cv5 = []\n",
    "z=0\n",
    "for i in k5 + k2 + k3 + k4 + k1:\n",
    "  if z < 340:\n",
    "    Xtrain_cv5.append(x_Train[i])\n",
    "    ytrain_cv5.append(y_Train[i])\n",
    "    z += 1\n",
    "  else:\n",
    "    Xtest_cv5.append(x_Train[i])\n",
    "    ytest_cv5.append(y_Train[i])\n",
    "z =0\n",
    "\n",
    "for i in k1 + k5 + k3 + k4 + k2:\n",
    "  if z < 340:\n",
    "    Xtrain_cv4.append(x_Train[i])\n",
    "    ytrain_cv4.append(y_Train[i])\n",
    "    z += 1\n",
    "  else:\n",
    "    Xtest_cv4.append(x_Train[i])\n",
    "    ytest_cv4.append(y_Train[i])\n",
    "z =0\n",
    "\n",
    "for i in k1 + k2 + k5 + k4 + k3:\n",
    "  if z < 340:\n",
    "    Xtrain_cv3.append(x_Train[i])\n",
    "    ytrain_cv3.append(y_Train[i])\n",
    "    z += 1\n",
    "  else:\n",
    "    Xtest_cv3.append(x_Train[i])\n",
    "    ytest_cv3.append(y_Train[i])\n",
    "z =0\n",
    "\n",
    "for i in k1 + k2 + k3 + k5 + k4:\n",
    "  if z < 340:\n",
    "    Xtrain_cv2.append(x_Train[i])\n",
    "    ytrain_cv2.append(y_Train[i])\n",
    "    z += 1\n",
    "  else:\n",
    "    Xtest_cv2.append(x_Train[i])\n",
    "    ytest_cv2.append(y_Train[i])\n",
    "z =0\n",
    "\n",
    "for i in k1 + k2 + k3 + k4 + k5:\n",
    "  if z < 340:\n",
    "    Xtrain_cv1.append(x_Train[i])\n",
    "    ytrain_cv1.append(y_Train[i])\n",
    "    z += 1\n",
    "  else:\n",
    "    Xtest_cv1.append(x_Train[i])\n",
    "    ytest_cv1.append(y_Train[i])\n",
    "\n",
    "len(ytrain_cv2)"
   ]
  },
  {
   "cell_type": "markdown",
   "metadata": {
    "id": "AFWx-RFsaYrs"
   },
   "source": [
    "#Splitting and Scaling"
   ]
  },
  {
   "cell_type": "code",
   "execution_count": 31,
   "metadata": {
    "id": "ouHdvZ7NaX2d"
   },
   "outputs": [],
   "source": [
    "from sklearn.model_selection import train_test_split\n",
    "x_train, x_test, y_train, y_test = train_test_split(X, y, test_size=0.20, random_state=0)"
   ]
  },
  {
   "cell_type": "code",
   "execution_count": 32,
   "metadata": {
    "id": "vT4M18EEbA-1"
   },
   "outputs": [],
   "source": [
    "from sklearn.preprocessing import StandardScaler\n",
    "scaler = StandardScaler()\n",
    "x_train = scaler.fit_transform(x_train)\n",
    "x_test = scaler.transform(x_test)"
   ]
  },
  {
   "cell_type": "code",
   "execution_count": 33,
   "metadata": {
    "id": "BH3_ds14HIj9"
   },
   "outputs": [],
   "source": [
    "def evaluation(cm):\n",
    "  accuracy = (cm[0,0]+cm[1,1])/(cm[0,0]+cm[1,1]+cm[0,1]+cm[1,0])\n",
    "  print(\"Accuracy : \", accuracy)\n",
    "  precision = (cm[0,0])/(cm[0,0]+cm[1,0])\n",
    "  print(\"Precision : \",precision)\n",
    "  recall = (cm[0,0])/(cm[0,0]+cm[0,1])\n",
    "  print(\"Recall : \",recall)\n",
    "  F1 = (2*precision*recall)/(precision + recall)\n",
    "  print(\"F1-score : \",F1)\n",
    "\n",
    "  return (accuracy, precision, recall, F1)"
   ]
  },
  {
   "cell_type": "markdown",
   "metadata": {
    "id": "enaUMu7xcM_L"
   },
   "source": [
    "#Nearest Neighbour Approach"
   ]
  },
  {
   "cell_type": "markdown",
   "metadata": {
    "id": "jZ4HUJZOGJuX"
   },
   "source": [
    "Applying elbow method to get the best K for KNN"
   ]
  },
  {
   "cell_type": "code",
   "execution_count": 35,
   "metadata": {
    "id": "H-LQlwrUpWbo"
   },
   "outputs": [
    {
     "data": {
      "text/plain": [
       "Text(0, 0.5, 'Mean Error')"
      ]
     },
     "execution_count": 35,
     "metadata": {},
     "output_type": "execute_result"
    },
    {
     "data": {
      "image/png": "[encoded data removed]",
      "text/plain": [
       "<Figure size 864x432 with 1 Axes>"
      ]
     },
     "metadata": {},
     "output_type": "display_data"
    }
   ],
   "source": [
    "from sklearn.neighbors import KNeighborsClassifier\n",
    "error = []\n",
    "\n",
    "for i in range(2, 40):\n",
    "    knn = KNeighborsClassifier(n_neighbors=i,p=2,metric='minkowski')\n",
    "    knn.fit(x_train, y_train)\n",
    "    pred_i = knn.predict(x_test)\n",
    "    error.append(np.mean(pred_i != y_test))\n",
    "plt.figure(figsize=(12, 6))\n",
    "plt.plot(range(2, 40), error, color='red', linestyle='dashed', marker='o',\n",
    "         markerfacecolor='blue', markersize=10)\n",
    "plt.title('Error Rate K Value')\n",
    "plt.xlabel('K Value')\n",
    "plt.ylabel('Mean Error')"
   ]
  },
  {
   "cell_type": "markdown",
   "metadata": {
    "id": "IUcU2JkIqTXD"
   },
   "source": [
    "Chosing 5 as the value of K"
   ]
  },
  {
   "cell_type": "code",
   "execution_count": 37,
   "metadata": {
    "id": "AIH8hHtnc3-I"
   },
   "outputs": [
    {
     "name": "stdout",
     "output_type": "stream",
     "text": [
      "[[49  0]\n",
      " [ 0 49]]\n",
      "1.0\n",
      "              precision    recall  f1-score   support\n",
      "\n",
      "           0     1.0000    1.0000    1.0000        49\n",
      "           1     1.0000    1.0000    1.0000        49\n",
      "\n",
      "    accuracy                         1.0000        98\n",
      "   macro avg     1.0000    1.0000    1.0000        98\n",
      "weighted avg     1.0000    1.0000    1.0000        98\n",
      "\n"
     ]
    },
    {
     "name": "stderr",
     "output_type": "stream",
     "text": [
      "/home/nsl50/anaconda3/lib/python3.9/site-packages/sklearn/utils/deprecation.py:87: FutureWarning: Function plot_roc_curve is deprecated; Function :func:`plot_roc_curve` is deprecated in 1.0 and will be removed in 1.2. Use one of the class methods: :meth:`sklearn.metrics.RocCurveDisplay.from_predictions` or :meth:`sklearn.metrics.RocCurveDisplay.from_estimator`.\n",
      "  warnings.warn(msg, category=FutureWarning)\n"
     ]
    },
    {
     "data": {
      "text/plain": [
       "<Figure size 432x432 with 0 Axes>"
      ]
     },
     "metadata": {},
     "output_type": "display_data"
    },
    {
     "data": {
      "image/png": "[encoded data removed]",
      "text/plain": [
       "<Figure size 720x432 with 1 Axes>"
      ]
     },
     "metadata": {},
     "output_type": "display_data"
    }
   ],
   "source": [
    "from sklearn.metrics import classification_report, confusion_matrix, accuracy_score, precision_score, recall_score, f1_score\n",
    "classifier = KNeighborsClassifier(n_neighbors = 4)\n",
    "classifier.fit(x_train, y_train)\n",
    "y_pred = classifier.predict(x_test)\n",
    "print(confusion_matrix(y_test, y_pred))\n",
    "print(accuracy_score(y_test, y_pred))\n",
    "print(classification_report(y_test, y_pred, digits = 4))\n",
    "from sklearn import metrics\n",
    "fig = plt.figure(figsize=(6,6))\n",
    "metrics.plot_roc_curve(classifier, x_test, y_test) \n",
    "plt.show()\n",
    "#y_pred = classifier.predict(user_input)\n",
    "#y_pred"
   ]
  },
  {
   "cell_type": "code",
   "execution_count": 38,
   "metadata": {},
   "outputs": [
    {
     "name": "stdout",
     "output_type": "stream",
     "text": [
      "(388, 11)\n",
      "(388,)\n",
      "tuned hpyerparameters :(best parameters)  {'n_neighbors': 3}\n",
      "accuracy : 0.9792847503373819\n",
      "[[49  0]\n",
      " [ 0 49]]\n",
      "1.0\n",
      "              precision    recall  f1-score   support\n",
      "\n",
      "           0       1.00      1.00      1.00        49\n",
      "           1       1.00      1.00      1.00        49\n",
      "\n",
      "    accuracy                           1.00        98\n",
      "   macro avg       1.00      1.00      1.00        98\n",
      "weighted avg       1.00      1.00      1.00        98\n",
      "\n"
     ]
    }
   ],
   "source": [
    "print(x_train.shape)\n",
    "print(y_train.shape)\n",
    "from sklearn.model_selection import GridSearchCV\n",
    "k_range = list(range(3, 31))\n",
    "param_grid = dict(n_neighbors=k_range)\n",
    "logreg=KNeighborsClassifier()\n",
    "logreg_cv = GridSearchCV(logreg, param_grid, cv=10, scoring='accuracy')\n",
    "logreg_cv.fit(x_train, y_train)\n",
    "\n",
    "print(\"tuned hpyerparameters :(best parameters) \",logreg_cv.best_params_)\n",
    "print(\"accuracy :\",logreg_cv.best_score_)\n",
    "\n",
    "y_pred=logreg_cv.predict(x_test)\n",
    "print(confusion_matrix(y_test,y_pred))\n",
    "print(accuracy_score(y_test,y_pred))\n",
    "print(classification_report(y_test,y_pred))"
   ]
  },
  {
   "cell_type": "code",
   "execution_count": null,
   "metadata": {
    "id": "BMk2K0-RCZY-"
   },
   "outputs": [],
   "source": [
    "from statistics import mean\n",
    "knn = KNeighborsClassifier(n_neighbors = 4)\n",
    "result_accuracy =[]\n",
    "result_precision =[]\n",
    "result_recall =[]\n",
    "result_f1 =[]\n",
    "Xtrain_v, Xtest_v, ytrain_v, ytest_v = Xtrain_cv1, Xtest_cv1, ytrain_cv1, ytest_cv1\n",
    "knn.fit(Xtrain_v, ytrain_v)\n",
    "y_pred = knn.predict(Xtest_v)\n",
    "acm = confusion_matrix(ytest_v, y_pred)\n",
    "(accuracy, Precision, recall, F1) = evaluation(acm)\n",
    "result_accuracy.append(accuracy)\n",
    "result_precision.append(Precision)\n",
    "result_recall.append(recall)\n",
    "result_f1.append(F1)\n",
    "\n",
    "Xtrain_v, Xtest_v, ytrain_v, ytest_v = Xtrain_cv2, Xtest_cv2, ytrain_cv2, ytest_cv2\n",
    "knn.fit(Xtrain_v, ytrain_v)\n",
    "y_pred = knn.predict(Xtest_v)\n",
    "acm = confusion_matrix(ytest_v, y_pred)\n",
    "(accuracy, Precision, recall, F1) = evaluation(acm)\n",
    "result_accuracy.append(accuracy)\n",
    "result_precision.append(Precision)\n",
    "result_recall.append(recall)\n",
    "result_f1.append(F1)\n",
    "\n",
    "Xtrain_v, Xtest_v, ytrain_v, ytest_v = Xtrain_cv3, Xtest_cv3, ytrain_cv3, ytest_cv3\n",
    "knn.fit(Xtrain_v, ytrain_v)\n",
    "y_pred = knn.predict(Xtest_v)\n",
    "acm = confusion_matrix(ytest_v, y_pred)\n",
    "(accuracy, Precision, recall, F1) = evaluation(acm)\n",
    "result_accuracy.append(accuracy)\n",
    "result_precision.append(Precision)\n",
    "result_recall.append(recall)\n",
    "result_f1.append(F1)\n",
    "\n",
    "Xtrain_v, Xtest_v, ytrain_v, ytest_v = Xtrain_cv4, Xtest_cv4, ytrain_cv4, ytest_cv4\n",
    "knn.fit(Xtrain_v, ytrain_v)\n",
    "y_pred = knn.predict(Xtest_v)\n",
    "acm = confusion_matrix(ytest_v, y_pred)\n",
    "(accuracy, Precision, recall, F1) = evaluation(acm)\n",
    "result_accuracy.append(accuracy)\n",
    "result_precision.append(Precision)\n",
    "result_recall.append(recall)\n",
    "result_f1.append(F1)\n",
    "\n",
    "Xtrain_v, Xtest_v, ytrain_v, ytest_v = Xtrain_cv5, Xtest_cv5, ytrain_cv5, ytest_cv5\n",
    "knn.fit(Xtrain_v, ytrain_v)\n",
    "y_pred = knn.predict(Xtest_v)\n",
    "acm = confusion_matrix(ytest_v, y_pred)\n",
    "(accuracy, Precision, recall, F1) = evaluation(acm)\n",
    "result_accuracy.append(accuracy)\n",
    "result_precision.append(Precision)\n",
    "result_recall.append(recall)\n",
    "result_f1.append(F1)\n",
    "\n",
    "print('-------------validation results---------')\n",
    "print('accuracy:', mean(result_accuracy))\n",
    "print('precision:',mean(result_precision))\n",
    "print('recall:',mean(result_recall))\n",
    "print('f1 score:',mean(result_f1))"
   ]
  },
  {
   "cell_type": "markdown",
   "metadata": {
    "id": "rkbZkzCGcdFn"
   },
   "source": [
    "#Support vector machine approach"
   ]
  },
  {
   "cell_type": "code",
   "execution_count": 39,
   "metadata": {
    "id": "rNdWVMqQc5dQ"
   },
   "outputs": [
    {
     "name": "stdout",
     "output_type": "stream",
     "text": [
      "[[48  1]\n",
      " [ 0 49]]\n",
      "0.9897959183673469\n",
      "              precision    recall  f1-score   support\n",
      "\n",
      "           0     1.0000    0.9796    0.9897        49\n",
      "           1     0.9800    1.0000    0.9899        49\n",
      "\n",
      "    accuracy                         0.9898        98\n",
      "   macro avg     0.9900    0.9898    0.9898        98\n",
      "weighted avg     0.9900    0.9898    0.9898        98\n",
      "\n"
     ]
    },
    {
     "name": "stderr",
     "output_type": "stream",
     "text": [
      "/home/nsl50/anaconda3/lib/python3.9/site-packages/sklearn/utils/deprecation.py:87: FutureWarning: Function plot_roc_curve is deprecated; Function :func:`plot_roc_curve` is deprecated in 1.0 and will be removed in 1.2. Use one of the class methods: :meth:`sklearn.metrics.RocCurveDisplay.from_predictions` or :meth:`sklearn.metrics.RocCurveDisplay.from_estimator`.\n",
      "  warnings.warn(msg, category=FutureWarning)\n"
     ]
    },
    {
     "data": {
      "image/png": "[encoded data removed]",
      "text/plain": [
       "<Figure size 720x432 with 1 Axes>"
      ]
     },
     "metadata": {},
     "output_type": "display_data"
    }
   ],
   "source": [
    "from sklearn.svm import SVC\n",
    "classifier3 = SVC(kernel = 'rbf', random_state = 0)\n",
    "classifier3.fit(x_train, y_train)\n",
    "y_pred = classifier3.predict(x_test)\n",
    "print(confusion_matrix(y_test, y_pred))\n",
    "print(accuracy_score(y_test, y_pred))\n",
    "print(classification_report(y_test, y_pred, digits = 4))\n",
    "metrics.plot_roc_curve(classifier3, x_test, y_test) \n",
    "plt.show()"
   ]
  },
  {
   "cell_type": "code",
   "execution_count": 40,
   "metadata": {},
   "outputs": [
    {
     "name": "stdout",
     "output_type": "stream",
     "text": [
      "tuned hpyerparameters :(best parameters)  {'C': 1, 'kernel': 'linear'}\n",
      "accuracy : 0.9923076923076923\n",
      "[[48  1]\n",
      " [ 0 49]]\n",
      "0.9897959183673469\n",
      "              precision    recall  f1-score   support\n",
      "\n",
      "           0       1.00      0.98      0.99        49\n",
      "           1       0.98      1.00      0.99        49\n",
      "\n",
      "    accuracy                           0.99        98\n",
      "   macro avg       0.99      0.99      0.99        98\n",
      "weighted avg       0.99      0.99      0.99        98\n",
      "\n"
     ]
    }
   ],
   "source": [
    "param_grid = {'kernel': ['linear', 'rbf'], 'C':[1,2,3,6]}\n",
    "logreg=SVC()\n",
    "logreg_cv = GridSearchCV(logreg, param_grid, cv=10, scoring='accuracy')\n",
    "logreg_cv.fit(x_train, y_train)\n",
    "\n",
    "print(\"tuned hpyerparameters :(best parameters) \",logreg_cv.best_params_)\n",
    "print(\"accuracy :\",logreg_cv.best_score_)\n",
    "\n",
    "y_pred=logreg_cv.predict(x_test)\n",
    "print(confusion_matrix(y_test,y_pred))\n",
    "print(accuracy_score(y_test,y_pred))\n",
    "print(classification_report(y_test,y_pred))"
   ]
  },
  {
   "cell_type": "code",
   "execution_count": null,
   "metadata": {
    "id": "GfQ1Q8biD0Zo"
   },
   "outputs": [],
   "source": [
    "classifier3 = SVC(kernel = 'rbf', gamma=0.05, random_state = 0)\n",
    "result_accuracy =[]\n",
    "result_precision =[]\n",
    "result_recall =[]\n",
    "result_f1 =[]\n",
    "Xtrain_v, Xtest_v, ytrain_v, ytest_v = Xtrain_cv1, Xtest_cv1, ytrain_cv1, ytest_cv1\n",
    "classifier3.fit(Xtrain_v, ytrain_v)\n",
    "y_pred = classifier3.predict(Xtest_v)\n",
    "acm = confusion_matrix(ytest_v, y_pred)\n",
    "(accuracy, Precision, recall, F1) = evaluation(acm)\n",
    "result_accuracy.append(accuracy)\n",
    "result_precision.append(Precision)\n",
    "result_recall.append(recall)\n",
    "result_f1.append(F1)\n",
    "\n",
    "Xtrain_v, Xtest_v, ytrain_v, ytest_v = Xtrain_cv2, Xtest_cv2, ytrain_cv2, ytest_cv2\n",
    "classifier3.fit(Xtrain_v, ytrain_v)\n",
    "y_pred = classifier3.predict(Xtest_v)\n",
    "acm = confusion_matrix(ytest_v, y_pred)\n",
    "(accuracy, Precision, recall, F1) = evaluation(acm)\n",
    "result_accuracy.append(accuracy)\n",
    "result_precision.append(Precision)\n",
    "result_recall.append(recall)\n",
    "result_f1.append(F1)\n",
    "\n",
    "Xtrain_v, Xtest_v, ytrain_v, ytest_v = Xtrain_cv3, Xtest_cv3, ytrain_cv3, ytest_cv3\n",
    "classifier3.fit(Xtrain_v, ytrain_v)\n",
    "y_pred = classifier3.predict(Xtest_v)\n",
    "acm = confusion_matrix(ytest_v, y_pred)\n",
    "(accuracy, Precision, recall, F1) = evaluation(acm)\n",
    "result_accuracy.append(accuracy)\n",
    "result_precision.append(Precision)\n",
    "result_recall.append(recall)\n",
    "result_f1.append(F1)\n",
    "\n",
    "Xtrain_v, Xtest_v, ytrain_v, ytest_v = Xtrain_cv4, Xtest_cv4, ytrain_cv4, ytest_cv4\n",
    "classifier3.fit(Xtrain_v, ytrain_v)\n",
    "y_pred = classifier3.predict(Xtest_v)\n",
    "acm = confusion_matrix(ytest_v, y_pred)\n",
    "(accuracy, Precision, recall, F1) = evaluation(acm)\n",
    "result_accuracy.append(accuracy)\n",
    "result_precision.append(Precision)\n",
    "result_recall.append(recall)\n",
    "result_f1.append(F1)\n",
    "\n",
    "Xtrain_v, Xtest_v, ytrain_v, ytest_v = Xtrain_cv5, Xtest_cv5, ytrain_cv5, ytest_cv5\n",
    "classifier3.fit(Xtrain_v, ytrain_v)\n",
    "y_pred = classifier3.predict(Xtest_v)\n",
    "acm = confusion_matrix(ytest_v, y_pred)\n",
    "(accuracy, Precision, recall, F1) = evaluation(acm)\n",
    "result_accuracy.append(accuracy)\n",
    "result_precision.append(Precision)\n",
    "result_recall.append(recall)\n",
    "result_f1.append(F1)\n",
    "\n",
    "print('-------------validation results---------')\n",
    "print('accuracy:', mean(result_accuracy))\n",
    "print('precision:',mean(result_precision))\n",
    "print('recall:',mean(result_recall))\n",
    "print('f1 score:',mean(result_f1))\n"
   ]
  },
  {
   "cell_type": "markdown",
   "metadata": {
    "id": "DCAq8xvwck6m"
   },
   "source": [
    "#Bayesian Approach"
   ]
  },
  {
   "cell_type": "markdown",
   "metadata": {
    "id": "6LIFt9TxrVgd"
   },
   "source": [
    "Gaussian Naive Bayes"
   ]
  },
  {
   "cell_type": "code",
   "execution_count": 41,
   "metadata": {
    "id": "0U8h1I4Ec6H4"
   },
   "outputs": [
    {
     "name": "stdout",
     "output_type": "stream",
     "text": [
      "[[47  2]\n",
      " [ 3 46]]\n",
      "0.9489795918367347\n",
      "              precision    recall  f1-score   support\n",
      "\n",
      "           0     0.9400    0.9592    0.9495        49\n",
      "           1     0.9583    0.9388    0.9485        49\n",
      "\n",
      "    accuracy                         0.9490        98\n",
      "   macro avg     0.9492    0.9490    0.9490        98\n",
      "weighted avg     0.9492    0.9490    0.9490        98\n",
      "\n"
     ]
    },
    {
     "name": "stderr",
     "output_type": "stream",
     "text": [
      "/home/nsl50/anaconda3/lib/python3.9/site-packages/sklearn/utils/deprecation.py:87: FutureWarning: Function plot_roc_curve is deprecated; Function :func:`plot_roc_curve` is deprecated in 1.0 and will be removed in 1.2. Use one of the class methods: :meth:`sklearn.metrics.RocCurveDisplay.from_predictions` or :meth:`sklearn.metrics.RocCurveDisplay.from_estimator`.\n",
      "  warnings.warn(msg, category=FutureWarning)\n"
     ]
    },
    {
     "data": {
      "image/png": "[encoded data removed]",
      "text/plain": [
       "<Figure size 720x432 with 1 Axes>"
      ]
     },
     "metadata": {},
     "output_type": "display_data"
    }
   ],
   "source": [
    "from sklearn.naive_bayes import GaussianNB\n",
    "classifier4 = GaussianNB()\n",
    "classifier4.fit(x_train, y_train)\n",
    "y_pred = classifier4.predict(x_test)\n",
    "print(confusion_matrix(y_test, y_pred))\n",
    "print(accuracy_score(y_test, y_pred))\n",
    "print(classification_report(y_test, y_pred, digits = 4))\n",
    "metrics.plot_roc_curve(classifier4, x_test, y_test) \n",
    "plt.show()"
   ]
  },
  {
   "cell_type": "code",
   "execution_count": 42,
   "metadata": {},
   "outputs": [
    {
     "name": "stdout",
     "output_type": "stream",
     "text": [
      "tuned hpyerparameters :(best parameters)  {'var_smoothing': 0.012328467394420659}\n",
      "accuracy : 0.9663967611336031\n",
      "[[46  3]\n",
      " [ 0 49]]\n",
      "0.9693877551020408\n",
      "              precision    recall  f1-score   support\n",
      "\n",
      "           0       1.00      0.94      0.97        49\n",
      "           1       0.94      1.00      0.97        49\n",
      "\n",
      "    accuracy                           0.97        98\n",
      "   macro avg       0.97      0.97      0.97        98\n",
      "weighted avg       0.97      0.97      0.97        98\n",
      "\n"
     ]
    }
   ],
   "source": [
    "param_grid = {'var_smoothing': np.logspace(0,-9, num=100)}\n",
    "logreg=GaussianNB()\n",
    "logreg_cv = GridSearchCV(logreg, param_grid, cv=10, scoring='accuracy')\n",
    "logreg_cv.fit(x_train, y_train)\n",
    "\n",
    "print(\"tuned hpyerparameters :(best parameters) \",logreg_cv.best_params_)\n",
    "print(\"accuracy :\",logreg_cv.best_score_)\n",
    "\n",
    "y_pred=logreg_cv.predict(x_test)\n",
    "print(confusion_matrix(y_test,y_pred))\n",
    "print(accuracy_score(y_test,y_pred))\n",
    "print(classification_report(y_test,y_pred))"
   ]
  },
  {
   "cell_type": "code",
   "execution_count": null,
   "metadata": {
    "id": "JgnbTsD0Eo5G"
   },
   "outputs": [],
   "source": [
    "classifier4 = GaussianNB()\n",
    "result_accuracy =[]\n",
    "result_precision =[]\n",
    "result_recall =[]\n",
    "result_f1 =[]\n",
    "Xtrain_v, Xtest_v, ytrain_v, ytest_v = Xtrain_cv1, Xtest_cv1, ytrain_cv1, ytest_cv1\n",
    "classifier4.fit(Xtrain_v, ytrain_v)\n",
    "y_pred = classifier4.predict(Xtest_v)\n",
    "acm = confusion_matrix(ytest_v, y_pred)\n",
    "(accuracy, Precision, recall, F1) = evaluation(acm)\n",
    "result_accuracy.append(accuracy)\n",
    "result_precision.append(Precision)\n",
    "result_recall.append(recall)\n",
    "result_f1.append(F1)\n",
    "\n",
    "Xtrain_v, Xtest_v, ytrain_v, ytest_v = Xtrain_cv2, Xtest_cv2, ytrain_cv2, ytest_cv2\n",
    "classifier4.fit(Xtrain_v, ytrain_v)\n",
    "y_pred = classifier4.predict(Xtest_v)\n",
    "acm = confusion_matrix(ytest_v, y_pred)\n",
    "(accuracy, Precision, recall, F1) = evaluation(acm)\n",
    "result_accuracy.append(accuracy)\n",
    "result_precision.append(Precision)\n",
    "result_recall.append(recall)\n",
    "result_f1.append(F1)\n",
    "\n",
    "Xtrain_v, Xtest_v, ytrain_v, ytest_v = Xtrain_cv3, Xtest_cv3, ytrain_cv3, ytest_cv3\n",
    "classifier4.fit(Xtrain_v, ytrain_v)\n",
    "y_pred = classifier4.predict(Xtest_v)\n",
    "acm = confusion_matrix(ytest_v, y_pred)\n",
    "(accuracy, Precision, recall, F1) = evaluation(acm)\n",
    "result_accuracy.append(accuracy)\n",
    "result_precision.append(Precision)\n",
    "result_recall.append(recall)\n",
    "result_f1.append(F1)\n",
    "\n",
    "Xtrain_v, Xtest_v, ytrain_v, ytest_v = Xtrain_cv4, Xtest_cv4, ytrain_cv4, ytest_cv4\n",
    "classifier4.fit(Xtrain_v, ytrain_v)\n",
    "y_pred = classifier4.predict(Xtest_v)\n",
    "acm = confusion_matrix(ytest_v, y_pred)\n",
    "(accuracy, Precision, recall, F1) = evaluation(acm)\n",
    "result_accuracy.append(accuracy)\n",
    "result_precision.append(Precision)\n",
    "result_recall.append(recall)\n",
    "result_f1.append(F1)\n",
    "\n",
    "Xtrain_v, Xtest_v, ytrain_v, ytest_v = Xtrain_cv5, Xtest_cv5, ytrain_cv5, ytest_cv5\n",
    "classifier4.fit(Xtrain_v, ytrain_v)\n",
    "y_pred = classifier4.predict(Xtest_v)\n",
    "acm = confusion_matrix(ytest_v, y_pred)\n",
    "(accuracy, Precision, recall, F1) = evaluation(acm)\n",
    "result_accuracy.append(accuracy)\n",
    "result_precision.append(Precision)\n",
    "result_recall.append(recall)\n",
    "result_f1.append(F1)\n",
    "\n",
    "print('-------------validation results---------')\n",
    "print('accuracy:', mean(result_accuracy))\n",
    "print('precision:',mean(result_precision))\n",
    "print('recall:',mean(result_recall))\n",
    "print('f1 score:',mean(result_f1))"
   ]
  },
  {
   "cell_type": "markdown",
   "metadata": {
    "id": "4kH-FvH5cuY3"
   },
   "source": [
    "#Tree based approach"
   ]
  },
  {
   "cell_type": "code",
   "execution_count": 43,
   "metadata": {
    "id": "sioQxSnYc7Cm"
   },
   "outputs": [
    {
     "name": "stdout",
     "output_type": "stream",
     "text": [
      "[[48  1]\n",
      " [ 1 48]]\n",
      "0.9795918367346939\n",
      "              precision    recall  f1-score   support\n",
      "\n",
      "           0     0.9796    0.9796    0.9796        49\n",
      "           1     0.9796    0.9796    0.9796        49\n",
      "\n",
      "    accuracy                         0.9796        98\n",
      "   macro avg     0.9796    0.9796    0.9796        98\n",
      "weighted avg     0.9796    0.9796    0.9796        98\n",
      "\n"
     ]
    },
    {
     "name": "stderr",
     "output_type": "stream",
     "text": [
      "/home/nsl50/anaconda3/lib/python3.9/site-packages/sklearn/utils/deprecation.py:87: FutureWarning: Function plot_roc_curve is deprecated; Function :func:`plot_roc_curve` is deprecated in 1.0 and will be removed in 1.2. Use one of the class methods: :meth:`sklearn.metrics.RocCurveDisplay.from_predictions` or :meth:`sklearn.metrics.RocCurveDisplay.from_estimator`.\n",
      "  warnings.warn(msg, category=FutureWarning)\n"
     ]
    },
    {
     "data": {
      "image/png": "[encoded data removed]",
      "text/plain": [
       "<Figure size 720x432 with 1 Axes>"
      ]
     },
     "metadata": {},
     "output_type": "display_data"
    }
   ],
   "source": [
    "from sklearn.tree import DecisionTreeClassifier\n",
    "classifier5 = DecisionTreeClassifier(criterion = 'gini', random_state = 0)\n",
    "classifier5.fit(x_train, y_train)\n",
    "y_pred = classifier5.predict(x_test)\n",
    "print(confusion_matrix(y_test, y_pred))\n",
    "print(accuracy_score(y_test, y_pred))\n",
    "print(classification_report(y_test, y_pred, digits = 4))\n",
    "metrics.plot_roc_curve(classifier5, x_test, y_test) \n",
    "plt.show()"
   ]
  },
  {
   "cell_type": "code",
   "execution_count": 44,
   "metadata": {},
   "outputs": [
    {
     "name": "stdout",
     "output_type": "stream",
     "text": [
      "tuned hpyerparameters :(best parameters)  {'criterion': 'entropy', 'max_depth': 9, 'min_samples_leaf': 1, 'min_samples_split': 3, 'splitter': 'random'}\n",
      "accuracy : 0.9896769896769897\n",
      "[[49  0]\n",
      " [ 1 48]]\n",
      "0.9897959183673469\n",
      "              precision    recall  f1-score   support\n",
      "\n",
      "           0       0.98      1.00      0.99        49\n",
      "           1       1.00      0.98      0.99        49\n",
      "\n",
      "    accuracy                           0.99        98\n",
      "   macro avg       0.99      0.99      0.99        98\n",
      "weighted avg       0.99      0.99      0.99        98\n",
      "\n"
     ]
    },
    {
     "name": "stderr",
     "output_type": "stream",
     "text": [
      "/home/nsl50/anaconda3/lib/python3.9/site-packages/sklearn/model_selection/_validation.py:378: FitFailedWarning: \n",
      "720 fits failed out of a total of 6480.\n",
      "The score on these train-test partitions for these parameters will be set to nan.\n",
      "If these failures are not expected, you can try to debug them by setting error_score='raise'.\n",
      "\n",
      "Below are more details about the failures:\n",
      "--------------------------------------------------------------------------------\n",
      "720 fits failed with the following error:\n",
      "Traceback (most recent call last):\n",
      "  File \"/home/nsl50/anaconda3/lib/python3.9/site-packages/sklearn/model_selection/_validation.py\", line 686, in _fit_and_score\n",
      "    estimator.fit(X_train, y_train, **fit_params)\n",
      "  File \"/home/nsl50/anaconda3/lib/python3.9/site-packages/sklearn/tree/_classes.py\", line 969, in fit\n",
      "    super().fit(\n",
      "  File \"/home/nsl50/anaconda3/lib/python3.9/site-packages/sklearn/tree/_classes.py\", line 265, in fit\n",
      "    check_scalar(\n",
      "  File \"/home/nsl50/anaconda3/lib/python3.9/site-packages/sklearn/utils/validation.py\", line 1480, in check_scalar\n",
      "    raise ValueError(\n",
      "ValueError: min_samples_split == 1, must be >= 2.\n",
      "\n",
      "  warnings.warn(some_fits_failed_message, FitFailedWarning)\n",
      "/home/nsl50/anaconda3/lib/python3.9/site-packages/sklearn/model_selection/_search.py:953: UserWarning: One or more of the test scores are non-finite: [       nan        nan 0.87632368 ... 0.96400266 0.97945388 0.94335664]\n",
      "  warnings.warn(\n"
     ]
    }
   ],
   "source": [
    "param_grid = {'criterion': ['gini', 'entropy'],\n",
    "              'max_depth': range(1,10),\n",
    "              'splitter' : ['best', 'random'],\n",
    "              'min_samples_split': range(1,10),\n",
    "              'min_samples_leaf': range(1,5)}\n",
    "logreg=DecisionTreeClassifier()\n",
    "logreg_cv = GridSearchCV(logreg, param_grid, cv=5, scoring='accuracy')\n",
    "logreg_cv.fit(x_train, y_train)\n",
    "\n",
    "print(\"tuned hpyerparameters :(best parameters) \",logreg_cv.best_params_)\n",
    "print(\"accuracy :\",logreg_cv.best_score_)\n",
    "\n",
    "y_pred=logreg_cv.predict(x_test)\n",
    "print(confusion_matrix(y_test,y_pred))\n",
    "print(accuracy_score(y_test,y_pred))\n",
    "print(classification_report(y_test,y_pred))"
   ]
  },
  {
   "cell_type": "code",
   "execution_count": null,
   "metadata": {
    "id": "yc4ehJBXFeOJ"
   },
   "outputs": [],
   "source": [
    "classifier5 = DecisionTreeClassifier(criterion = 'gini', random_state = 0)\n",
    "result_accuracy =[]\n",
    "result_precision =[]\n",
    "result_recall =[]\n",
    "result_f1 =[]\n",
    "Xtrain_v, Xtest_v, ytrain_v, ytest_v = Xtrain_cv1, Xtest_cv1, ytrain_cv1, ytest_cv1\n",
    "classifier5.fit(Xtrain_v, ytrain_v)\n",
    "y_pred = classifier5.predict(Xtest_v)\n",
    "acm = confusion_matrix(ytest_v, y_pred)\n",
    "(accuracy, Precision, recall, F1) = evaluation(acm)\n",
    "result_accuracy.append(accuracy)\n",
    "result_precision.append(Precision)\n",
    "result_recall.append(recall)\n",
    "result_f1.append(F1)\n",
    "\n",
    "Xtrain_v, Xtest_v, ytrain_v, ytest_v = Xtrain_cv2, Xtest_cv2, ytrain_cv2, ytest_cv2\n",
    "classifier5.fit(Xtrain_v, ytrain_v)\n",
    "y_pred = classifier5.predict(Xtest_v)\n",
    "acm = confusion_matrix(ytest_v, y_pred)\n",
    "(accuracy, Precision, recall, F1) = evaluation(acm)\n",
    "result_accuracy.append(accuracy)\n",
    "result_precision.append(Precision)\n",
    "result_recall.append(recall)\n",
    "result_f1.append(F1)\n",
    "\n",
    "Xtrain_v, Xtest_v, ytrain_v, ytest_v = Xtrain_cv3, Xtest_cv3, ytrain_cv3, ytest_cv3\n",
    "classifier5.fit(Xtrain_v, ytrain_v)\n",
    "y_pred = classifier5.predict(Xtest_v)\n",
    "acm = confusion_matrix(ytest_v, y_pred)\n",
    "(accuracy, Precision, recall, F1) = evaluation(acm)\n",
    "result_accuracy.append(accuracy)\n",
    "result_precision.append(Precision)\n",
    "result_recall.append(recall)\n",
    "result_f1.append(F1)\n",
    "\n",
    "Xtrain_v, Xtest_v, ytrain_v, ytest_v = Xtrain_cv4, Xtest_cv4, ytrain_cv4, ytest_cv4\n",
    "classifier5.fit(Xtrain_v, ytrain_v)\n",
    "y_pred = classifier5.predict(Xtest_v)\n",
    "acm = confusion_matrix(ytest_v, y_pred)\n",
    "(accuracy, Precision, recall, F1) = evaluation(acm)\n",
    "result_accuracy.append(accuracy)\n",
    "result_precision.append(Precision)\n",
    "result_recall.append(recall)\n",
    "result_f1.append(F1)\n",
    "\n",
    "Xtrain_v, Xtest_v, ytrain_v, ytest_v = Xtrain_cv5, Xtest_cv5, ytrain_cv5, ytest_cv5\n",
    "classifier5.fit(Xtrain_v, ytrain_v)\n",
    "y_pred = classifier5.predict(Xtest_v)\n",
    "acm = confusion_matrix(ytest_v, y_pred)\n",
    "(accuracy, Precision, recall, F1) = evaluation(acm)\n",
    "result_accuracy.append(accuracy)\n",
    "result_precision.append(Precision)\n",
    "result_recall.append(recall)\n",
    "result_f1.append(F1)\n",
    "\n",
    "print('-------------validation results---------')\n",
    "print('accuracy:', mean(result_accuracy))\n",
    "print('precision:',mean(result_precision))\n",
    "print('recall:',mean(result_recall))\n",
    "print('f1 score:',mean(result_f1))"
   ]
  },
  {
   "cell_type": "code",
   "execution_count": null,
   "metadata": {
    "id": "2xVhSDUt2HTh"
   },
   "outputs": [],
   "source": [
    "# from sklearn import tree\n",
    "# import graphviz \n",
    "# dot_data = tree.export_graphviz(classifier5, out_file=None, \n",
    "#                       max_depth = 2, \n",
    "#                       feature_names=df.columns,\n",
    "#                       class_names=['0', '1'],  \n",
    "#                       filled=True, rounded=True,  \n",
    "#                       special_characters=True,)\n",
    "# graph = graphviz.Source(dot_data)  \n",
    "# graph "
   ]
  },
  {
   "cell_type": "markdown",
   "metadata": {
    "id": "fOhU-v2MS5j2"
   },
   "source": [
    "#Linear Models"
   ]
  },
  {
   "cell_type": "code",
   "execution_count": 45,
   "metadata": {
    "id": "Z-vSsvywS6Fr"
   },
   "outputs": [
    {
     "name": "stdout",
     "output_type": "stream",
     "text": [
      "[[47  2]\n",
      " [ 0 49]]\n",
      "0.9795918367346939\n",
      "              precision    recall  f1-score   support\n",
      "\n",
      "           0     1.0000    0.9592    0.9792        49\n",
      "           1     0.9608    1.0000    0.9800        49\n",
      "\n",
      "    accuracy                         0.9796        98\n",
      "   macro avg     0.9804    0.9796    0.9796        98\n",
      "weighted avg     0.9804    0.9796    0.9796        98\n",
      "\n"
     ]
    },
    {
     "name": "stderr",
     "output_type": "stream",
     "text": [
      "/home/nsl50/anaconda3/lib/python3.9/site-packages/sklearn/utils/deprecation.py:87: FutureWarning: Function plot_roc_curve is deprecated; Function :func:`plot_roc_curve` is deprecated in 1.0 and will be removed in 1.2. Use one of the class methods: :meth:`sklearn.metrics.RocCurveDisplay.from_predictions` or :meth:`sklearn.metrics.RocCurveDisplay.from_estimator`.\n",
      "  warnings.warn(msg, category=FutureWarning)\n"
     ]
    },
    {
     "data": {
      "image/png": "[encoded data removed]",
      "text/plain": [
       "<Figure size 720x432 with 1 Axes>"
      ]
     },
     "metadata": {},
     "output_type": "display_data"
    }
   ],
   "source": [
    "from sklearn.linear_model import LogisticRegression\n",
    "classifier7 = LogisticRegression(random_state = 0)\n",
    "classifier7.fit(x_train, y_train)\n",
    "y_pred = classifier7.predict(x_test)\n",
    "print(confusion_matrix(y_test, y_pred))\n",
    "print(accuracy_score(y_test, y_pred))\n",
    "print(classification_report(y_test, y_pred, digits = 4))\n",
    "metrics.plot_roc_curve(classifier7, x_test, y_test) \n",
    "plt.show()"
   ]
  },
  {
   "cell_type": "code",
   "execution_count": 46,
   "metadata": {},
   "outputs": [
    {
     "name": "stdout",
     "output_type": "stream",
     "text": [
      "tuned hpyerparameters :(best parameters)  {'C': 10.0, 'penalty': 'l2', 'solver': 'newton-cg'}\n",
      "accuracy : 0.9922402159244263\n",
      "[[49  0]\n",
      " [ 0 49]]\n",
      "1.0\n",
      "              precision    recall  f1-score   support\n",
      "\n",
      "           0       1.00      1.00      1.00        49\n",
      "           1       1.00      1.00      1.00        49\n",
      "\n",
      "    accuracy                           1.00        98\n",
      "   macro avg       1.00      1.00      1.00        98\n",
      "weighted avg       1.00      1.00      1.00        98\n",
      "\n"
     ]
    },
    {
     "name": "stderr",
     "output_type": "stream",
     "text": [
      "/home/nsl50/anaconda3/lib/python3.9/site-packages/sklearn/linear_model/_logistic.py:444: ConvergenceWarning: lbfgs failed to converge (status=1):\n",
      "STOP: TOTAL NO. of ITERATIONS REACHED LIMIT.\n",
      "\n",
      "Increase the number of iterations (max_iter) or scale the data as shown in:\n",
      "    https://scikit-learn.org/stable/modules/preprocessing.html\n",
      "Please also refer to the documentation for alternative solver options:\n",
      "    https://scikit-learn.org/stable/modules/linear_model.html#logistic-regression\n",
      "  n_iter_i = _check_optimize_result(\n",
      "/home/nsl50/anaconda3/lib/python3.9/site-packages/sklearn/linear_model/_logistic.py:444: ConvergenceWarning: lbfgs failed to converge (status=1):\n",
      "STOP: TOTAL NO. of ITERATIONS REACHED LIMIT.\n",
      "\n",
      "Increase the number of iterations (max_iter) or scale the data as shown in:\n",
      "    https://scikit-learn.org/stable/modules/preprocessing.html\n",
      "Please also refer to the documentation for alternative solver options:\n",
      "    https://scikit-learn.org/stable/modules/linear_model.html#logistic-regression\n",
      "  n_iter_i = _check_optimize_result(\n",
      "/home/nsl50/anaconda3/lib/python3.9/site-packages/sklearn/linear_model/_logistic.py:444: ConvergenceWarning: lbfgs failed to converge (status=1):\n",
      "STOP: TOTAL NO. of ITERATIONS REACHED LIMIT.\n",
      "\n",
      "Increase the number of iterations (max_iter) or scale the data as shown in:\n",
      "    https://scikit-learn.org/stable/modules/preprocessing.html\n",
      "Please also refer to the documentation for alternative solver options:\n",
      "    https://scikit-learn.org/stable/modules/linear_model.html#logistic-regression\n",
      "  n_iter_i = _check_optimize_result(\n",
      "/home/nsl50/anaconda3/lib/python3.9/site-packages/sklearn/linear_model/_logistic.py:444: ConvergenceWarning: lbfgs failed to converge (status=1):\n",
      "STOP: TOTAL NO. of ITERATIONS REACHED LIMIT.\n",
      "\n",
      "Increase the number of iterations (max_iter) or scale the data as shown in:\n",
      "    https://scikit-learn.org/stable/modules/preprocessing.html\n",
      "Please also refer to the documentation for alternative solver options:\n",
      "    https://scikit-learn.org/stable/modules/linear_model.html#logistic-regression\n",
      "  n_iter_i = _check_optimize_result(\n",
      "/home/nsl50/anaconda3/lib/python3.9/site-packages/sklearn/linear_model/_logistic.py:444: ConvergenceWarning: lbfgs failed to converge (status=1):\n",
      "STOP: TOTAL NO. of ITERATIONS REACHED LIMIT.\n",
      "\n",
      "Increase the number of iterations (max_iter) or scale the data as shown in:\n",
      "    https://scikit-learn.org/stable/modules/preprocessing.html\n",
      "Please also refer to the documentation for alternative solver options:\n",
      "    https://scikit-learn.org/stable/modules/linear_model.html#logistic-regression\n",
      "  n_iter_i = _check_optimize_result(\n",
      "/home/nsl50/anaconda3/lib/python3.9/site-packages/sklearn/linear_model/_logistic.py:444: ConvergenceWarning: lbfgs failed to converge (status=1):\n",
      "STOP: TOTAL NO. of ITERATIONS REACHED LIMIT.\n",
      "\n",
      "Increase the number of iterations (max_iter) or scale the data as shown in:\n",
      "    https://scikit-learn.org/stable/modules/preprocessing.html\n",
      "Please also refer to the documentation for alternative solver options:\n",
      "    https://scikit-learn.org/stable/modules/linear_model.html#logistic-regression\n",
      "  n_iter_i = _check_optimize_result(\n",
      "/home/nsl50/anaconda3/lib/python3.9/site-packages/sklearn/linear_model/_logistic.py:444: ConvergenceWarning: lbfgs failed to converge (status=1):\n",
      "STOP: TOTAL NO. of ITERATIONS REACHED LIMIT.\n",
      "\n",
      "Increase the number of iterations (max_iter) or scale the data as shown in:\n",
      "    https://scikit-learn.org/stable/modules/preprocessing.html\n",
      "Please also refer to the documentation for alternative solver options:\n",
      "    https://scikit-learn.org/stable/modules/linear_model.html#logistic-regression\n",
      "  n_iter_i = _check_optimize_result(\n",
      "/home/nsl50/anaconda3/lib/python3.9/site-packages/sklearn/model_selection/_validation.py:378: FitFailedWarning: \n",
      "140 fits failed out of a total of 420.\n",
      "The score on these train-test partitions for these parameters will be set to nan.\n",
      "If these failures are not expected, you can try to debug them by setting error_score='raise'.\n",
      "\n",
      "Below are more details about the failures:\n",
      "--------------------------------------------------------------------------------\n",
      "70 fits failed with the following error:\n",
      "Traceback (most recent call last):\n",
      "  File \"/home/nsl50/anaconda3/lib/python3.9/site-packages/sklearn/model_selection/_validation.py\", line 686, in _fit_and_score\n",
      "    estimator.fit(X_train, y_train, **fit_params)\n",
      "  File \"/home/nsl50/anaconda3/lib/python3.9/site-packages/sklearn/linear_model/_logistic.py\", line 1091, in fit\n",
      "    solver = _check_solver(self.solver, self.penalty, self.dual)\n",
      "  File \"/home/nsl50/anaconda3/lib/python3.9/site-packages/sklearn/linear_model/_logistic.py\", line 61, in _check_solver\n",
      "    raise ValueError(\n",
      "ValueError: Solver newton-cg supports only 'l2' or 'none' penalties, got l1 penalty.\n",
      "\n",
      "--------------------------------------------------------------------------------\n",
      "70 fits failed with the following error:\n",
      "Traceback (most recent call last):\n",
      "  File \"/home/nsl50/anaconda3/lib/python3.9/site-packages/sklearn/model_selection/_validation.py\", line 686, in _fit_and_score\n",
      "    estimator.fit(X_train, y_train, **fit_params)\n",
      "  File \"/home/nsl50/anaconda3/lib/python3.9/site-packages/sklearn/linear_model/_logistic.py\", line 1091, in fit\n",
      "    solver = _check_solver(self.solver, self.penalty, self.dual)\n",
      "  File \"/home/nsl50/anaconda3/lib/python3.9/site-packages/sklearn/linear_model/_logistic.py\", line 61, in _check_solver\n",
      "    raise ValueError(\n",
      "ValueError: Solver lbfgs supports only 'l2' or 'none' penalties, got l1 penalty.\n",
      "\n",
      "  warnings.warn(some_fits_failed_message, FitFailedWarning)\n",
      "/home/nsl50/anaconda3/lib/python3.9/site-packages/sklearn/model_selection/_search.py:953: UserWarning: One or more of the test scores are non-finite: [       nan        nan 0.5        0.92267206 0.92267206 0.92267206\n",
      "        nan        nan 0.9354251  0.95607287 0.95607287 0.94838057\n",
      "        nan        nan 0.94824561 0.97415655 0.97415655 0.97422402\n",
      "        nan        nan 0.98454791 0.98967611 0.98967611 0.98198381\n",
      "        nan        nan 0.98711201 0.99224022 0.99224022 0.98967611\n",
      "        nan        nan 0.98448043 0.99224022 0.99224022 0.98967611\n",
      "        nan        nan 0.98198381 0.99224022 0.99224022 0.98454791]\n",
      "  warnings.warn(\n"
     ]
    }
   ],
   "source": [
    "param_grid = {\"C\":np.logspace(-3,3,7), \"penalty\":[\"l1\",\"l2\"], 'solver' : ['newton-cg', 'lbfgs', 'liblinear']\n",
    "            }\n",
    "logreg=LogisticRegression()\n",
    "#cv mans cross_validation\n",
    "logreg_cv = GridSearchCV(logreg, param_grid, cv=10, scoring='accuracy')\n",
    "logreg_cv.fit(x_train, y_train)\n",
    "\n",
    "print(\"tuned hpyerparameters :(best parameters) \",logreg_cv.best_params_)\n",
    "print(\"accuracy :\",logreg_cv.best_score_)\n",
    "\n",
    "y_pred=logreg_cv.predict(x_test)\n",
    "print(confusion_matrix(y_test,y_pred))\n",
    "print(accuracy_score(y_test,y_pred))\n",
    "print(classification_report(y_test,y_pred))"
   ]
  },
  {
   "cell_type": "code",
   "execution_count": null,
   "metadata": {},
   "outputs": [],
   "source": []
  },
  {
   "cell_type": "code",
   "execution_count": null,
   "metadata": {
    "id": "76iqZ15dF7su"
   },
   "outputs": [],
   "source": [
    "classifier7 = LogisticRegression(tol=0.00001, random_state = 0)\n",
    "result_accuracy =[]\n",
    "result_precision =[]\n",
    "result_recall =[]\n",
    "result_f1 =[]\n",
    "Xtrain_v, Xtest_v, ytrain_v, ytest_v = Xtrain_cv1, Xtest_cv1, ytrain_cv1, ytest_cv1\n",
    "classifier7.fit(Xtrain_v, ytrain_v)\n",
    "y_pred = classifier7.predict(Xtest_v)\n",
    "acm = confusion_matrix(ytest_v, y_pred)\n",
    "(accuracy, Precision, recall, F1) = evaluation(acm)\n",
    "result_accuracy.append(accuracy)\n",
    "result_precision.append(Precision)\n",
    "result_recall.append(recall)\n",
    "result_f1.append(F1)\n",
    "\n",
    "Xtrain_v, Xtest_v, ytrain_v, ytest_v = Xtrain_cv2, Xtest_cv2, ytrain_cv2, ytest_cv2\n",
    "classifier7.fit(Xtrain_v, ytrain_v)\n",
    "y_pred = classifier7.predict(Xtest_v)\n",
    "acm = confusion_matrix(ytest_v, y_pred)\n",
    "(accuracy, Precision, recall, F1) = evaluation(acm)\n",
    "result_accuracy.append(accuracy)\n",
    "result_precision.append(Precision)\n",
    "result_recall.append(recall)\n",
    "result_f1.append(F1)\n",
    "\n",
    "Xtrain_v, Xtest_v, ytrain_v, ytest_v = Xtrain_cv3, Xtest_cv3, ytrain_cv3, ytest_cv3\n",
    "classifier7.fit(Xtrain_v, ytrain_v)\n",
    "y_pred = classifier7.predict(Xtest_v)\n",
    "acm = confusion_matrix(ytest_v, y_pred)\n",
    "(accuracy, Precision, recall, F1) = evaluation(acm)\n",
    "result_accuracy.append(accuracy)\n",
    "result_precision.append(Precision)\n",
    "result_recall.append(recall)\n",
    "result_f1.append(F1)\n",
    "\n",
    "Xtrain_v, Xtest_v, ytrain_v, ytest_v = Xtrain_cv4, Xtest_cv4, ytrain_cv4, ytest_cv4\n",
    "classifier7.fit(Xtrain_v, ytrain_v)\n",
    "y_pred = classifier7.predict(Xtest_v)\n",
    "acm = confusion_matrix(ytest_v, y_pred)\n",
    "(accuracy, Precision, recall, F1) = evaluation(acm)\n",
    "result_accuracy.append(accuracy)\n",
    "result_precision.append(Precision)\n",
    "result_recall.append(recall)\n",
    "result_f1.append(F1)\n",
    "\n",
    "Xtrain_v, Xtest_v, ytrain_v, ytest_v = Xtrain_cv5, Xtest_cv5, ytrain_cv5, ytest_cv5\n",
    "classifier7.fit(Xtrain_v, ytrain_v)\n",
    "y_pred = classifier7.predict(Xtest_v)\n",
    "acm = confusion_matrix(ytest_v, y_pred)\n",
    "(accuracy, Precision, recall, F1) = evaluation(acm)\n",
    "result_accuracy.append(accuracy)\n",
    "result_precision.append(Precision)\n",
    "result_recall.append(recall)\n",
    "result_f1.append(F1)\n",
    "\n",
    "print('-------------validation results---------')\n",
    "print('accuracy:', mean(result_accuracy))\n",
    "print('precision:',mean(result_precision))\n",
    "print('recall:',mean(result_recall))\n",
    "print('f1 score:',mean(result_f1))"
   ]
  },
  {
   "cell_type": "markdown",
   "metadata": {
    "id": "nRAdbWTlcZ3w"
   },
   "source": [
    "\n",
    "\n",
    "# Voting with K-fold"
   ]
  },
  {
   "cell_type": "code",
   "execution_count": null,
   "metadata": {
    "id": "GygNhl87G23X"
   },
   "outputs": [],
   "source": [
    "print(X.shape)\n",
    "print(y.shape)"
   ]
  },
  {
   "cell_type": "code",
   "execution_count": null,
   "metadata": {
    "id": "7HEt1UndGyPR"
   },
   "outputs": [],
   "source": [
    "from sklearn.model_selection import train_test_split\n",
    "x_train, x_test, y_train, y_test = train_test_split(X, y, test_size=0.15, random_state=0)"
   ]
  },
  {
   "cell_type": "code",
   "execution_count": null,
   "metadata": {
    "id": "XqwZ3wGVGszG"
   },
   "outputs": [],
   "source": [
    "non_ckd = []\n",
    "ckd = []\n",
    "j=0\n",
    "for i in y_train:\n",
    "  if i == 0:\n",
    "    non_ckd.append(j)\n",
    "  elif i == 1:\n",
    "    ckd.append(j)\n",
    "  j += 1\n",
    "print(ckd)\n",
    "len(ckd)"
   ]
  },
  {
   "cell_type": "code",
   "execution_count": null,
   "metadata": {
    "id": "dbYwPPpqGpyq"
   },
   "outputs": [],
   "source": [
    "k1 = []\n",
    "k2 = []\n",
    "k3 = []\n",
    "k4 = []\n",
    "k5 = []\n",
    "i = 0\n",
    "k = 0\n",
    "for j in range(0,425):\n",
    "    if j < 85:\n",
    "      if j % 2 == 0:\n",
    "        k1.append(ckd[i])\n",
    "        i += 1\n",
    "      else:\n",
    "        k1.append(non_ckd[k])\n",
    "        k += 1\n",
    "\n",
    "    elif j < 170:\n",
    "      if j % 2 == 0:\n",
    "        k2.append(ckd[i])\n",
    "        i += 1\n",
    "      else:\n",
    "        k2.append(non_ckd[k])\n",
    "        k += 1\n",
    "\n",
    "    elif j < 255:\n",
    "      if j % 2 == 0:\n",
    "        k3.append(ckd[i])\n",
    "        i += 1\n",
    "      else:\n",
    "        k3.append(non_ckd[k])\n",
    "        k += 1\n",
    "\n",
    "    elif j < 340:\n",
    "      if j % 2 == 0:\n",
    "        k4.append(ckd[i])\n",
    "        i += 1\n",
    "      else:\n",
    "        k4.append(non_ckd[k])\n",
    "        k += 1\n",
    "\n",
    "    else:\n",
    "      if j % 2 == 0:\n",
    "        k5.append(ckd[i])\n",
    "        i += 1\n",
    "      else:\n",
    "        k5.append(non_ckd[k])\n",
    "        k += 1"
   ]
  },
  {
   "cell_type": "code",
   "execution_count": null,
   "metadata": {
    "id": "8qJ7z3HFnZ-D"
   },
   "outputs": [],
   "source": [
    "Xtrain_cv1 = []\n",
    "Xtrain_cv2 = []\n",
    "Xtrain_cv3 = []\n",
    "Xtrain_cv4 = []\n",
    "Xtrain_cv5 = []\n",
    "ytrain_cv1 = []\n",
    "ytrain_cv2 = []\n",
    "ytrain_cv3 = []\n",
    "ytrain_cv4 = []\n",
    "ytrain_cv5 = []\n",
    "Xtest_cv1 = []\n",
    "Xtest_cv2 = []\n",
    "Xtest_cv3 = []\n",
    "Xtest_cv4 = []\n",
    "Xtest_cv5 = []\n",
    "ytest_cv1 = []\n",
    "ytest_cv2 = []\n",
    "ytest_cv3 = []\n",
    "ytest_cv4 = []\n",
    "ytest_cv5 = []\n",
    "z=0\n",
    "for i in k5 + k2 + k3 + k4 + k1:\n",
    "  if z < 340:\n",
    "    Xtrain_cv5.append(x_train[i])\n",
    "    ytrain_cv5.append(y_train[i])\n",
    "    z += 1\n",
    "  else:\n",
    "    Xtest_cv5.append(x_train[i])\n",
    "    ytest_cv5.append(y_train[i])\n",
    "z =0\n",
    "\n",
    "for i in k1 + k5 + k3 + k4 + k2:\n",
    "  if z < 340:\n",
    "    Xtrain_cv4.append(x_train[i])\n",
    "    ytrain_cv4.append(y_train[i])\n",
    "    z += 1\n",
    "  else:\n",
    "    Xtest_cv4.append(x_train[i])\n",
    "    ytest_cv4.append(y_train[i])\n",
    "z =0\n",
    "\n",
    "for i in k1 + k2 + k5 + k4 + k3:\n",
    "  if z < 340:\n",
    "    Xtrain_cv3.append(x_train[i])\n",
    "    ytrain_cv3.append(y_train[i])\n",
    "    z += 1\n",
    "  else:\n",
    "    Xtest_cv3.append(x_train[i])\n",
    "    ytest_cv3.append(y_train[i])\n",
    "z =0\n",
    "\n",
    "for i in k1 + k2 + k3 + k5 + k4:\n",
    "  if z < 340:\n",
    "    Xtrain_cv2.append(x_train[i])\n",
    "    ytrain_cv2.append(y_train[i])\n",
    "    z += 1\n",
    "  else:\n",
    "    Xtest_cv2.append(x_train[i])\n",
    "    ytest_cv2.append(y_train[i])\n",
    "z =0\n",
    "\n",
    "for i in k1 + k2 + k3 + k4 + k5:\n",
    "  if z < 340:\n",
    "    Xtrain_cv1.append(x_train[i])\n",
    "    ytrain_cv1.append(y_train[i])\n",
    "    z += 1\n",
    "  else:\n",
    "    Xtest_cv1.append(x_train[i])\n",
    "    ytest_cv1.append(y_train[i])\n",
    "\n",
    "len(ytrain_cv2)"
   ]
  },
  {
   "cell_type": "code",
   "execution_count": null,
   "metadata": {
    "id": "SJ2I_xdZ-dkV"
   },
   "outputs": [],
   "source": [
    "from sklearn.model_selection import KFold\n",
    "from statistics import mean\n",
    "knn = KNeighborsClassifier(n_neighbors = 4)\n",
    "svm_rbf = SVC(kernel = 'linear', probability=True , random_state = 0)\n",
    "gNB = GaussianNB()\n",
    "dt = DecisionTreeClassifier(criterion = 'gini', random_state = 0)\n",
    "lr = LogisticRegression(random_state = 0)\n",
    "result_accuracy =[]\n",
    "result_precision =[]\n",
    "result_recall =[]\n",
    "result_f1 =[]\n",
    "classifier_v = VotingClassifier(estimators = [('knn',knn), ('svc',svm_rbf), ('gnb',gNB), ('dt',dt), ('lr',lr)], voting='soft').fit(x_train,y_train)\n",
    "\n",
    "Xtrain_v, Xtest_v, ytrain_v, ytest_v = Xtrain_cv1, Xtest_cv1, ytrain_cv1, ytest_cv1\n",
    "classifier_v.fit(Xtrain_v, ytrain_v)\n",
    "y_pred = classifier_v.predict(Xtest_v)\n",
    "acm = confusion_matrix(ytest_v, y_pred)\n",
    "(accuracy, Precision, recall, F1) = evaluation(acm)\n",
    "result_accuracy.append(accuracy)\n",
    "result_precision.append(Precision)\n",
    "result_recall.append(recall)\n",
    "result_f1.append(F1)\n",
    "\n",
    "Xtrain_v, Xtest_v, ytrain_v, ytest_v = Xtrain_cv2, Xtest_cv2, ytrain_cv2, ytest_cv2\n",
    "classifier_v.fit(Xtrain_v, ytrain_v)\n",
    "y_pred = classifier_v.predict(Xtest_v)\n",
    "acm = confusion_matrix(ytest_v, y_pred)\n",
    "(accuracy, Precision, recall, F1) = evaluation(acm)\n",
    "result_accuracy.append(accuracy)\n",
    "result_precision.append(Precision)\n",
    "result_recall.append(recall)\n",
    "result_f1.append(F1)\n",
    "\n",
    "Xtrain_v, Xtest_v, ytrain_v, ytest_v = Xtrain_cv3, Xtest_cv3, ytrain_cv3, ytest_cv3\n",
    "classifier_v.fit(Xtrain_v, ytrain_v)\n",
    "y_pred = classifier_v.predict(Xtest_v)\n",
    "acm = confusion_matrix(ytest_v, y_pred)\n",
    "(accuracy, Precision, recall, F1) = evaluation(acm)\n",
    "result_accuracy.append(accuracy)\n",
    "result_precision.append(Precision)\n",
    "result_recall.append(recall)\n",
    "result_f1.append(F1)\n",
    "\n",
    "Xtrain_v, Xtest_v, ytrain_v, ytest_v = Xtrain_cv4, Xtest_cv4, ytrain_cv4, ytest_cv4\n",
    "classifier_v.fit(Xtrain_v, ytrain_v)\n",
    "y_pred = classifier_v.predict(Xtest_v)\n",
    "acm = confusion_matrix(ytest_v, y_pred)\n",
    "(accuracy, Precision, recall, F1) = evaluation(acm)\n",
    "result_accuracy.append(accuracy)\n",
    "result_precision.append(Precision)\n",
    "result_recall.append(recall)\n",
    "result_f1.append(F1)\n",
    "\n",
    "Xtrain_v, Xtest_v, ytrain_v, ytest_v = Xtrain_cv5, Xtest_cv5, ytrain_cv5, ytest_cv5\n",
    "classifier_v.fit(Xtrain_v, ytrain_v)\n",
    "y_pred = classifier_v.predict(Xtest_v)\n",
    "acm = confusion_matrix(ytest_v, y_pred)\n",
    "(accuracy, Precision, recall, F1) = evaluation(acm)\n",
    "result_accuracy.append(accuracy)\n",
    "result_precision.append(Precision)\n",
    "result_recall.append(recall)\n",
    "result_f1.append(F1)\n",
    "\n",
    "print('-------------validation results---------')\n",
    "print('accuracy:', mean(result_accuracy))\n",
    "print('precision:',mean(result_precision))\n",
    "print('recall:',mean(result_recall))\n",
    "print('f1 score:',mean(result_f1))\n"
   ]
  },
  {
   "cell_type": "code",
   "execution_count": null,
   "metadata": {
    "id": "xtVRYIMFJf22"
   },
   "outputs": [],
   "source": [
    "y_pred_test = classifier_v.predict(x_test)\n",
    "print(confusion_matrix(y_test, y_pred_test))\n",
    "print(classification_report(y_test, y_pred_test, digits = 4))"
   ]
  }
 ],
 "metadata": {
  "colab": {
   "collapsed_sections": [],
   "provenance": [
    {
     "file_id": "1N5Wp0vLGg5_LRcJr4xQXUWjch0NZR2EC",
     "timestamp": 1648276959411
    }
   ]
  },
  "kernelspec": {
   "display_name": "Python 3 (ipykernel)",
   "language": "python",
   "name": "python3"
  },
  "language_info": {
   "codemirror_mode": {
    "name": "ipython",
    "version": 3
   },
   "file_extension": ".py",
   "mimetype": "text/x-python",
   "name": "python",
   "nbconvert_exporter": "python",
   "pygments_lexer": "ipython3",
   "version": "3.9.7"
  },
  "vscode": {
   "interpreter": {
    "hash": "e7370f93d1d0cde622a1f8e1c04877d8463912d04d973331ad4851f04de6915a"
   }
  }
 },
 "nbformat": 4,
 "nbformat_minor": 1
}
