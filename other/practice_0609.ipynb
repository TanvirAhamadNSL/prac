{
 "cells": [
  {
   "cell_type": "code",
   "execution_count": 1,
   "id": "1401f4d1",
   "metadata": {},
   "outputs": [],
   "source": [
    "from PIL import Image, ImageDraw, ImageFont\n",
    "main_img_size = 28, 28\n",
    "H, W = 28, 28\n",
    "digit = []\n",
    "for i in range(0,10):\n",
    "    txt = str(i)\n",
    "    # create an image\n",
    "    out = Image.new(\"1\", main_img_size, color = \"black\")\n",
    "    \n",
    "    # get a font\n",
    "    fnt = ImageFont.truetype(\"Pillow/Tests/fonts/FreeMono.ttf\", 30)\n",
    "    # get a drawing context\n",
    "    d = ImageDraw.Draw(out)\n",
    "\n",
    "    w, h = d.textsize(txt, font=fnt)\n",
    "    # draw multiline text\n",
    "    d.text(((W-w)/2, (H-h)/2), txt, font=fnt, fill=\"white\")\n",
    "    digit.append(out)\n",
    "    #out.save('pil_text{}.png'.format(i))\n",
    "    #out.show()"
   ]
  },
  {
   "cell_type": "code",
   "execution_count": 2,
   "id": "2207578e",
   "metadata": {},
   "outputs": [
    {
     "name": "stderr",
     "output_type": "stream",
     "text": [
      "2022-09-08 14:47:27.355233: I tensorflow/core/util/util.cc:169] oneDNN custom operations are on. You may see slightly different numerical results due to floating-point round-off errors from different computation orders. To turn them off, set the environment variable `TF_ENABLE_ONEDNN_OPTS=0`.\n",
      "2022-09-08 14:47:27.357831: W tensorflow/stream_executor/platform/default/dso_loader.cc:64] Could not load dynamic library 'libcudart.so.11.0'; dlerror: libcudart.so.11.0: cannot open shared object file: No such file or directory\n",
      "2022-09-08 14:47:27.357838: I tensorflow/stream_executor/cuda/cudart_stub.cc:29] Ignore above cudart dlerror if you do not have a GPU set up on your machine.\n"
     ]
    }
   ],
   "source": [
    "import numpy as np\n",
    "import pandas as pd\n",
    "import tensorflow as tf\n",
    "from tensorflow import keras\n",
    "from keras import layers\n",
    "from keras.datasets import mnist\n",
    "import matplotlib.pyplot as plt"
   ]
  },
  {
   "cell_type": "code",
   "execution_count": 3,
   "id": "66c8b6dd",
   "metadata": {},
   "outputs": [
    {
     "name": "stdout",
     "output_type": "stream",
     "text": [
      "(60000, 28, 28)\n",
      "(60000,)\n",
      "(10000, 28, 28)\n",
      "(10000,)\n"
     ]
    }
   ],
   "source": [
    "(x_train,Y_train), (x_test, Y_test) = mnist.load_data()\n",
    "print(x_train.shape)\n",
    "print(Y_train.shape)\n",
    "print(x_test.shape)\n",
    "print(Y_test.shape)"
   ]
  },
  {
   "cell_type": "code",
   "execution_count": 4,
   "id": "583d074f",
   "metadata": {},
   "outputs": [],
   "source": [
    "#print(digit[0].shape)\n",
    "for i in range(0,10):\n",
    "    digit[i] = np.asarray(digit[i])\n",
    "    #print(type(digit[i]))"
   ]
  },
  {
   "cell_type": "code",
   "execution_count": 5,
   "id": "37dbf32c",
   "metadata": {},
   "outputs": [],
   "source": [
    "y_train = np.empty_like(x_train)\n",
    "y_test = np.empty_like(x_test)\n",
    "for i in range(len(Y_train)):\n",
    "    temp = int(Y_train[i])\n",
    "    y_train[i] = digit[temp]\n",
    "for i in range(len(Y_test)):\n",
    "    temp = int(Y_test[i])\n",
    "    y_test[i] = digit[temp]"
   ]
  },
  {
   "cell_type": "code",
   "execution_count": 6,
   "id": "e1f54a17",
   "metadata": {},
   "outputs": [],
   "source": [
    "x_test = x_test.astype('float32')\n",
    "x_train = x_train.astype('float32')\n",
    "y_train = y_train.astype('float32')\n",
    "y_test = y_test.astype('float32')\n",
    "\n",
    "x_test /= 255\n",
    "x_train /= 255\n",
    "y_train /=255\n",
    "y_test /=255\n",
    "\n",
    "x_test = x_test.reshape(x_test.shape[0], 28, 28, 1)\n",
    "x_train = x_train.reshape(x_train.shape[0], 28, 28, 1)\n",
    "y_train = y_train.reshape(y_train.shape[0], 28, 28, 1)\n",
    "y_test = y_test.reshape(y_test.shape[0], 28, 28, 1)"
   ]
  },
  {
   "cell_type": "code",
   "execution_count": 7,
   "id": "cfbcee27",
   "metadata": {},
   "outputs": [
    {
     "name": "stdout",
     "output_type": "stream",
     "text": [
      "(60000, 28, 28, 1)\n",
      "(60000, 28, 28, 1)\n",
      "(10000, 28, 28, 1)\n",
      "(10000, 28, 28, 1)\n"
     ]
    }
   ],
   "source": [
    "print(x_train.shape)\n",
    "print(y_train.shape)\n",
    "print(x_test.shape)\n",
    "print(y_test.shape)"
   ]
  },
  {
   "cell_type": "code",
   "execution_count": 56,
   "id": "4a20615c",
   "metadata": {},
   "outputs": [
    {
     "name": "stdout",
     "output_type": "stream",
     "text": [
      "Model: \"model_3\"\n",
      "_________________________________________________________________\n",
      " Layer (type)                Output Shape              Param #   \n",
      "=================================================================\n",
      " Input_stage (InputLayer)    [(None, 28, 28, 1)]       0         \n",
      "                                                                 \n",
      " conv2d_9 (Conv2D)           (None, 14, 14, 32)        320       \n",
      "                                                                 \n",
      " conv2d_10 (Conv2D)          (None, 7, 7, 64)          18496     \n",
      "                                                                 \n",
      " conv2d_11 (Conv2D)          (None, 3, 3, 128)         73856     \n",
      "                                                                 \n",
      " flatten_3 (Flatten)         (None, 1152)              0         \n",
      "                                                                 \n",
      " dense_22 (Dense)            (None, 2048)              2361344   \n",
      "                                                                 \n",
      " dense_23 (Dense)            (None, 1024)              2098176   \n",
      "                                                                 \n",
      " dense_24 (Dense)            (None, 512)               524800    \n",
      "                                                                 \n",
      " dense_25 (Dense)            (None, 256)               131328    \n",
      "                                                                 \n",
      " dense_26 (Dense)            (None, 128)               32896     \n",
      "                                                                 \n",
      " dense_27 (Dense)            (None, 64)                8256      \n",
      "                                                                 \n",
      " dense_28 (Dense)            (None, 10)                650       \n",
      "                                                                 \n",
      " dense_29 (Dense)            (None, 64)                704       \n",
      "                                                                 \n",
      " dense_30 (Dense)            (None, 128)               8320      \n",
      "                                                                 \n",
      " dense_31 (Dense)            (None, 256)               33024     \n",
      "                                                                 \n",
      " dense_32 (Dense)            (None, 512)               131584    \n",
      "                                                                 \n",
      " dense_33 (Dense)            (None, 1024)              525312    \n",
      "                                                                 \n",
      " dense_34 (Dense)            (None, 2048)              2099200   \n",
      "                                                                 \n",
      " dense_35 (Dense)            (None, 1152)              2360448   \n",
      "                                                                 \n",
      " reshape_3 (Reshape)         (None, 3, 3, 128)         0         \n",
      "                                                                 \n",
      " conv2d_transpose_9 (Conv2DT  (None, 7, 7, 64)         73792     \n",
      " ranspose)                                                       \n",
      "                                                                 \n",
      " conv2d_transpose_10 (Conv2D  (None, 14, 14, 32)       18464     \n",
      " Transpose)                                                      \n",
      "                                                                 \n",
      " conv2d_transpose_11 (Conv2D  (None, 28, 28, 1)        289       \n",
      " Transpose)                                                      \n",
      "                                                                 \n",
      "=================================================================\n",
      "Total params: 10,501,259\n",
      "Trainable params: 10,501,259\n",
      "Non-trainable params: 0\n",
      "_________________________________________________________________\n"
     ]
    }
   ],
   "source": [
    "input_img = layers.Input(shape=(28,28,1), name='Input_stage')\n",
    "# x = layers.Flatten()(input_img)\n",
    "# x = layers.Dense(784, activation='relu')(x)\n",
    "# x = layers.Reshape((28,28,1))(x)\n",
    "x = layers.Conv2D(filters=32, kernel_size=(3, 3), activation='relu', padding='same', strides=2)(input_img)\n",
    "x = layers.Conv2D(filters=64, kernel_size=(3, 3), activation='relu', padding='same', strides=2)(x)\n",
    "x = layers.Conv2D(filters=128, kernel_size=(3, 3), activation='relu', strides=2)(x)\n",
    "x = layers.Flatten()(x)\n",
    "x = layers.Dense(2048, activation='relu')(x)\n",
    "x = layers.Dense(1024, activation='relu')(x)\n",
    "x = layers.Dense(512, activation='relu')(x)\n",
    "x = layers.Dense(256, activation='relu')(x)\n",
    "x = layers.Dense(128, activation='relu')(x)\n",
    "x = layers.Dense(64, activation='relu')(x)\n",
    "x = layers.Dense(10, activation='relu')(x)\n",
    "x = layers.Dense(64, activation='relu')(x)\n",
    "x = layers.Dense(128, activation='relu')(x)\n",
    "x = layers.Dense(256, activation='relu')(x)\n",
    "x = layers.Dense(512, activation='relu')(x)\n",
    "x = layers.Dense(1024, activation='relu')(x)\n",
    "x = layers.Dense(2048, activation='relu')(x)\n",
    "x = layers.Dense(1152, activation='relu')(x)\n",
    "x = layers.Reshape((3, 3, 128))(x)\n",
    "x = layers.Conv2DTranspose(filters=64, kernel_size=(3, 3), strides=2, activation='relu')(x)\n",
    "x = layers.Conv2DTranspose(filters=32, kernel_size=(3, 3), strides=2, activation='relu', padding='same')(x)\n",
    "output = layers.Conv2DTranspose(filters=1, kernel_size=(3, 3), strides=2, activation='relu', padding='same')(x)\n",
    "# x = layers.Flatten()(x)\n",
    "# x = layers.Dense(784, activation='relu')(x)\n",
    "# output = layers.Reshape((28,28,1))(x)\n",
    "\n",
    "\n",
    "model = keras.Model(inputs = input_img, outputs = output)\n",
    "model.summary()"
   ]
  },
  {
   "cell_type": "code",
   "execution_count": 57,
   "id": "8150f159",
   "metadata": {},
   "outputs": [],
   "source": [
    "model.compile(loss='binary_crossentropy',\n",
    "              optimizer = keras.optimizers.Adam(learning_rate=0.0001),\n",
    "              metrics=[\"accuracy\"],\n",
    "             )"
   ]
  },
  {
   "cell_type": "code",
   "execution_count": 58,
   "id": "63b30cf6",
   "metadata": {},
   "outputs": [
    {
     "name": "stdout",
     "output_type": "stream",
     "text": [
      "Epoch 1/5\n",
      "1875/1875 [==============================] - 54s 29ms/step - loss: 0.0021 - accuracy: 0.9295\n",
      "Epoch 2/5\n",
      "1875/1875 [==============================] - 55s 29ms/step - loss: 0.0019 - accuracy: 0.9295\n",
      "Epoch 3/5\n",
      "1875/1875 [==============================] - 54s 29ms/step - loss: 0.0019 - accuracy: 0.9295\n",
      "Epoch 4/5\n",
      "1875/1875 [==============================] - 55s 29ms/step - loss: 0.0019 - accuracy: 0.9295\n",
      "Epoch 5/5\n",
      "1875/1875 [==============================] - 55s 29ms/step - loss: 0.0018 - accuracy: 0.9295\n"
     ]
    }
   ],
   "source": [
    "# steps_per_epochs=10\n",
    "history = model.fit(x_train, y_train,epochs = 5)"
   ]
  },
  {
   "cell_type": "code",
   "execution_count": 59,
   "id": "f54b0079",
   "metadata": {},
   "outputs": [
    {
     "name": "stdout",
     "output_type": "stream",
     "text": [
      "313/313 [==============================] - 2s 5ms/step - loss: 0.0018 - accuracy: 0.9295\n"
     ]
    },
    {
     "data": {
      "text/plain": [
       "[0.0018339342204853892, 0.9294621348381042]"
      ]
     },
     "execution_count": 59,
     "metadata": {},
     "output_type": "execute_result"
    }
   ],
   "source": [
    "model.evaluate(x_test, y_test)"
   ]
  },
  {
   "cell_type": "code",
   "execution_count": 80,
   "id": "3324b96a",
   "metadata": {},
   "outputs": [
    {
     "data": {
      "text/plain": [
       "<matplotlib.image.AxesImage at 0x7f6b4e984880>"
      ]
     },
     "execution_count": 80,
     "metadata": {},
     "output_type": "execute_result"
    },
    {
     "data": {
      "image/png": "[encoded data removed]",
      "text/plain": [
       "<Figure size 432x288 with 1 Axes>"
      ]
     },
     "metadata": {
      "needs_background": "light"
     },
     "output_type": "display_data"
    }
   ],
   "source": [
    "image_index = 210 # 4444\n",
    "test_image = x_test[image_index].reshape(28, 28)\n",
    "plt.imshow(test_image, cmap='gray')"
   ]
  },
  {
   "cell_type": "code",
   "execution_count": 81,
   "id": "3176abde",
   "metadata": {},
   "outputs": [
    {
     "name": "stdout",
     "output_type": "stream",
     "text": [
      "1/1 [==============================] - 0s 14ms/step\n"
     ]
    },
    {
     "data": {
      "text/plain": [
       "<matplotlib.image.AxesImage at 0x7f6b4e9053d0>"
      ]
     },
     "execution_count": 81,
     "metadata": {},
     "output_type": "execute_result"
    },
    {
     "data": {
      "image/png": "[encoded data removed]",
      "text/plain": [
       "<Figure size 432x288 with 1 Axes>"
      ]
     },
     "metadata": {
      "needs_background": "light"
     },
     "output_type": "display_data"
    }
   ],
   "source": [
    "test_image = test_image.reshape(1, 28, 28, 1) # make image batch\n",
    "\n",
    "pred = model.predict(test_image)       # prediction\n",
    "\n",
    "pred = pred.reshape(28,28)\n",
    "plt.imshow(pred, cmap= 'gray')"
   ]
  },
  {
   "cell_type": "code",
   "execution_count": 14,
   "id": "3cdf5993",
   "metadata": {},
   "outputs": [
    {
     "data": {
      "text/plain": [
       "<matplotlib.image.AxesImage at 0x7f6b4fe8a880>"
      ]
     },
     "execution_count": 14,
     "metadata": {},
     "output_type": "execute_result"
    },
    {
     "data": {
      "image/png": "[encoded data removed]",
      "text/plain": [
       "<Figure size 432x288 with 1 Axes>"
      ]
     },
     "metadata": {
      "needs_background": "light"
     },
     "output_type": "display_data"
    }
   ],
   "source": [
    "test_image = x_train[1].reshape(28, 28)\n",
    "plt.imshow(test_image, cmap='gray')"
   ]
  },
  {
   "cell_type": "code",
   "execution_count": 15,
   "id": "64171a3f",
   "metadata": {},
   "outputs": [
    {
     "data": {
      "text/plain": [
       "<matplotlib.image.AxesImage at 0x7f6b4fe78490>"
      ]
     },
     "execution_count": 15,
     "metadata": {},
     "output_type": "execute_result"
    },
    {
     "data": {
      "image/png": "[encoded data removed]",
      "text/plain": [
       "<Figure size 432x288 with 1 Axes>"
      ]
     },
     "metadata": {
      "needs_background": "light"
     },
     "output_type": "display_data"
    }
   ],
   "source": [
    "image_index = 0 # 4444\n",
    "test_image = y_train[1].reshape(28, 28)\n",
    "plt.imshow(test_image, cmap='gray')"
   ]
  },
  {
   "cell_type": "code",
   "execution_count": null,
   "id": "86e10769",
   "metadata": {},
   "outputs": [],
   "source": []
  }
 ],
 "metadata": {
  "kernelspec": {
   "display_name": "Python 3 (ipykernel)",
   "language": "python",
   "name": "python3"
  },
  "language_info": {
   "codemirror_mode": {
    "name": "ipython",
    "version": 3
   },
   "file_extension": ".py",
   "mimetype": "text/x-python",
   "name": "python",
   "nbconvert_exporter": "python",
   "pygments_lexer": "ipython3",
   "version": "3.9.7"
  }
 },
 "nbformat": 4,
 "nbformat_minor": 5
}
